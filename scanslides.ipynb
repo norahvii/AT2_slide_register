{
 "cells": [
  {
   "cell_type": "code",
   "execution_count": 1,
   "id": "9c574da7-ff82-4272-9572-e348b210efd9",
   "metadata": {
    "tags": []
   },
   "outputs": [
    {
     "name": "stdout",
     "output_type": "stream",
     "text": [
      "82 svs files identified.\n"
     ]
    },
    {
     "name": "stderr",
     "output_type": "stream",
     "text": [
      "  0%|                                                                                                                                             | 0/82 [00:00<?, ?it/s]CRITICAL:root:Error in phase 3\n",
      "ERROR:root:An exception occurred while processing file: A20-131/1005821.svs\n",
      "ERROR:root:Exception details: list index out of range (Brain Region)\n",
      "  1%|█▌                                                                                                                                   | 1/82 [00:00<01:19,  1.01it/s]"
     ]
    },
    {
     "name": "stdout",
     "output_type": "stream",
     "text": [
      "Participant ID: A20-131\n",
      "Stain ID: HE\n"
     ]
    },
    {
     "name": "stderr",
     "output_type": "stream",
     "text": [
      "CRITICAL:root:Error in phase 3\n",
      "ERROR:root:An exception occurred while processing file: A20-131/1005846.svs\n",
      "ERROR:root:Exception details: list index out of range (Brain Region)\n",
      "  2%|███▏                                                                                                                                 | 2/82 [00:01<01:11,  1.12it/s]"
     ]
    },
    {
     "name": "stdout",
     "output_type": "stream",
     "text": [
      "Participant ID: A20-131\n",
      "Stain ID: HE\n"
     ]
    },
    {
     "name": "stderr",
     "output_type": "stream",
     "text": [
      "CRITICAL:root:Error in phase 3\n",
      "ERROR:root:An exception occurred while processing file: A20-131/1005856.svs\n",
      "ERROR:root:Exception details: list index out of range (Brain Region)\n",
      "  4%|████▊                                                                                                                                | 3/82 [00:02<01:06,  1.18it/s]"
     ]
    },
    {
     "name": "stdout",
     "output_type": "stream",
     "text": [
      "Participant ID: A20-131\n",
      "Stain ID: HE\n"
     ]
    },
    {
     "name": "stderr",
     "output_type": "stream",
     "text": [
      "CRITICAL:root:Error in phase 3\n",
      "ERROR:root:An exception occurred while processing file: A20-131/1005859.svs\n",
      "ERROR:root:Exception details: list index out of range (Brain Region)\n",
      "  5%|██████▍                                                                                                                              | 4/82 [00:03<01:18,  1.00s/it]"
     ]
    },
    {
     "name": "stdout",
     "output_type": "stream",
     "text": [
      "Participant ID: A20-131\n",
      "Stain ID: PHF-1\n"
     ]
    },
    {
     "name": "stderr",
     "output_type": "stream",
     "text": [
      "CRITICAL:root:Error in phase 3\n",
      "ERROR:root:An exception occurred while processing file: A20-131/1005860.svs\n",
      "ERROR:root:Exception details: list index out of range (Brain Region)\n",
      "  6%|████████                                                                                                                             | 5/82 [00:04<01:19,  1.03s/it]"
     ]
    },
    {
     "name": "stdout",
     "output_type": "stream",
     "text": [
      "Participant ID: A20-131\n",
      "Stain ID: TDP-43\n"
     ]
    },
    {
     "name": "stderr",
     "output_type": "stream",
     "text": [
      "CRITICAL:root:Error in phase 3\n",
      "ERROR:root:An exception occurred while processing file: A20-131/1005871.svs\n",
      "ERROR:root:Exception details: list index out of range (Brain Region)\n",
      "  7%|█████████▋                                                                                                                           | 6/82 [00:05<01:12,  1.04it/s]"
     ]
    },
    {
     "name": "stdout",
     "output_type": "stream",
     "text": [
      "Participant ID: A20-131\n",
      "Stain ID: HE\n"
     ]
    },
    {
     "name": "stderr",
     "output_type": "stream",
     "text": [
      "CRITICAL:root:Error in phase 3\n",
      "ERROR:root:An exception occurred while processing file: A20-131/1005872.svs\n",
      "ERROR:root:Exception details: list index out of range (Brain Region)\n",
      "  9%|███████████▎                                                                                                                         | 7/82 [00:06<01:10,  1.06it/s]"
     ]
    },
    {
     "name": "stdout",
     "output_type": "stream",
     "text": [
      "Participant ID: A20-131\n",
      "Stain ID: HE\n"
     ]
    },
    {
     "name": "stderr",
     "output_type": "stream",
     "text": [
      "CRITICAL:root:Error in phase 3\n",
      "ERROR:root:An exception occurred while processing file: A20-131/1005875.svs\n",
      "ERROR:root:Exception details: list index out of range (Brain Region)\n",
      " 10%|████████████▉                                                                                                                        | 8/82 [00:07<01:13,  1.01it/s]"
     ]
    },
    {
     "name": "stdout",
     "output_type": "stream",
     "text": [
      "Participant ID: A20-131\n",
      "Stain ID: 10D5\n"
     ]
    },
    {
     "name": "stderr",
     "output_type": "stream",
     "text": [
      "CRITICAL:root:Error in phase 3\n",
      "ERROR:root:An exception occurred while processing file: A20-131/1005876.svs\n",
      "ERROR:root:Exception details: list index out of range (Brain Region)\n",
      " 11%|██████████████▌                                                                                                                      | 9/82 [00:09<01:18,  1.08s/it]"
     ]
    },
    {
     "name": "stdout",
     "output_type": "stream",
     "text": [
      "Participant ID: A20-131\n",
      "Stain ID: 10D5\n"
     ]
    },
    {
     "name": "stderr",
     "output_type": "stream",
     "text": [
      "CRITICAL:root:Error in phase 3\n",
      "ERROR:root:An exception occurred while processing file: A20-131/1005877.svs\n",
      "ERROR:root:Exception details: list index out of range (Brain Region)\n",
      " 12%|████████████████                                                                                                                    | 10/82 [00:10<01:18,  1.10s/it]"
     ]
    },
    {
     "name": "stdout",
     "output_type": "stream",
     "text": [
      "Participant ID: A20-131\n",
      "Stain ID: PHF-1\n"
     ]
    },
    {
     "name": "stderr",
     "output_type": "stream",
     "text": [
      "CRITICAL:root:Error in phase 3\n",
      "ERROR:root:An exception occurred while processing file: A20-131/1005878.svs\n",
      "ERROR:root:Exception details: list index out of range (Brain Region)\n",
      " 13%|█████████████████▋                                                                                                                  | 11/82 [00:11<01:19,  1.12s/it]"
     ]
    },
    {
     "name": "stdout",
     "output_type": "stream",
     "text": [
      "Participant ID: A20-131\n",
      "Stain ID: PHF-1\n"
     ]
    },
    {
     "name": "stderr",
     "output_type": "stream",
     "text": [
      "CRITICAL:root:Error in phase 3\n",
      "ERROR:root:An exception occurred while processing file: A20-131/1005879.svs\n",
      "ERROR:root:Exception details: list index out of range (Brain Region)\n",
      " 15%|███████████████████▎                                                                                                                | 12/82 [00:12<01:17,  1.11s/it]"
     ]
    },
    {
     "name": "stdout",
     "output_type": "stream",
     "text": [
      "Participant ID: A20-131\n",
      "Stain ID: PHF-1\n"
     ]
    },
    {
     "name": "stderr",
     "output_type": "stream",
     "text": [
      "CRITICAL:root:Error in phase 3\n",
      "ERROR:root:An exception occurred while processing file: A20-131/1005880.svs\n",
      "ERROR:root:Exception details: list index out of range (Brain Region)\n",
      " 16%|████████████████████▉                                                                                                               | 13/82 [00:13<01:17,  1.13s/it]"
     ]
    },
    {
     "name": "stdout",
     "output_type": "stream",
     "text": [
      "Participant ID: A20-131\n",
      "Stain ID: PHF-1\n"
     ]
    },
    {
     "name": "stderr",
     "output_type": "stream",
     "text": [
      "CRITICAL:root:Error in phase 3\n",
      "ERROR:root:An exception occurred while processing file: A20-131/1005881.svs\n",
      "ERROR:root:Exception details: list index out of range (Brain Region)\n",
      " 17%|██████████████████████▌                                                                                                             | 14/82 [00:14<01:17,  1.14s/it]"
     ]
    },
    {
     "name": "stdout",
     "output_type": "stream",
     "text": [
      "Participant ID: A20-131\n",
      "Stain ID: TDP-43\n"
     ]
    },
    {
     "name": "stderr",
     "output_type": "stream",
     "text": [
      "CRITICAL:root:Error in phase 3\n",
      "ERROR:root:An exception occurred while processing file: A20-131/1005882.svs\n",
      "ERROR:root:Exception details: list index out of range (Brain Region)\n",
      " 18%|████████████████████████▏                                                                                                           | 15/82 [00:15<01:16,  1.15s/it]"
     ]
    },
    {
     "name": "stdout",
     "output_type": "stream",
     "text": [
      "Participant ID: A20-131\n",
      "Stain ID: TDP-43\n",
      "Participant ID: A20-131\n",
      "Stain ID: TDP-43\n"
     ]
    },
    {
     "name": "stderr",
     "output_type": "stream",
     "text": [
      "CRITICAL:root:Error in phase 3\n",
      "ERROR:root:An exception occurred while processing file: A20-131/1005883.svs\n",
      "ERROR:root:Exception details: list index out of range (Brain Region)\n",
      " 21%|███████████████████████████▎                                                                                                        | 17/82 [00:17<01:08,  1.05s/it]"
     ]
    },
    {
     "name": "stdout",
     "output_type": "stream",
     "text": [
      "Participant ID: A20-131\n",
      "Stain ID: 10D5\n",
      "Brain region match: L11\n"
     ]
    },
    {
     "name": "stderr",
     "output_type": "stream",
     "text": [
      " 22%|████████████████████████████▉                                                                                                       | 18/82 [00:18<01:06,  1.04s/it]"
     ]
    },
    {
     "name": "stdout",
     "output_type": "stream",
     "text": [
      "Participant ID: A20-131\n",
      "Stain ID: PHF-1\n",
      "Brain region match: L11\n"
     ]
    },
    {
     "name": "stderr",
     "output_type": "stream",
     "text": [
      " 23%|██████████████████████████████▌                                                                                                     | 19/82 [00:19<01:05,  1.04s/it]"
     ]
    },
    {
     "name": "stdout",
     "output_type": "stream",
     "text": [
      "Participant ID: A20-131\n",
      "Stain ID: TDP-43\n",
      "Brain region match: L11\n"
     ]
    },
    {
     "name": "stderr",
     "output_type": "stream",
     "text": [
      " 24%|████████████████████████████████▏                                                                                                   | 20/82 [00:20<01:03,  1.03s/it]"
     ]
    },
    {
     "name": "stdout",
     "output_type": "stream",
     "text": [
      "Participant ID: A20-131\n",
      "Stain ID: 10D5\n",
      "Brain region match: L12\n"
     ]
    },
    {
     "name": "stderr",
     "output_type": "stream",
     "text": [
      " 26%|█████████████████████████████████▊                                                                                                  | 21/82 [00:21<00:59,  1.02it/s]"
     ]
    },
    {
     "name": "stdout",
     "output_type": "stream",
     "text": [
      "Participant ID: A20-131\n",
      "Stain ID: HE\n",
      "Brain region match: L12\n"
     ]
    },
    {
     "name": "stderr",
     "output_type": "stream",
     "text": [
      " 27%|███████████████████████████████████▍                                                                                                | 22/82 [00:22<00:58,  1.02it/s]"
     ]
    },
    {
     "name": "stdout",
     "output_type": "stream",
     "text": [
      "Participant ID: A20-131\n",
      "Stain ID: PHF-1\n",
      "Brain region match: L12\n"
     ]
    },
    {
     "name": "stderr",
     "output_type": "stream",
     "text": [
      " 28%|█████████████████████████████████████                                                                                               | 23/82 [00:23<00:58,  1.00it/s]"
     ]
    },
    {
     "name": "stdout",
     "output_type": "stream",
     "text": [
      "Participant ID: A20-131\n",
      "Stain ID: TDP-43\n",
      "Brain region match: L12\n"
     ]
    },
    {
     "name": "stderr",
     "output_type": "stream",
     "text": [
      " 29%|██████████████████████████████████████▋                                                                                             | 24/82 [00:24<00:59,  1.02s/it]"
     ]
    },
    {
     "name": "stdout",
     "output_type": "stream",
     "text": [
      "Participant ID: A20-131\n",
      "Stain ID: 10D5\n",
      "Brain region match: L13\n"
     ]
    },
    {
     "name": "stderr",
     "output_type": "stream",
     "text": [
      " 30%|████████████████████████████████████████▏                                                                                           | 25/82 [00:25<00:58,  1.02s/it]"
     ]
    },
    {
     "name": "stdout",
     "output_type": "stream",
     "text": [
      "Participant ID: A20-131\n",
      "Stain ID: PHF-1\n",
      "Brain region match: L13\n"
     ]
    },
    {
     "name": "stderr",
     "output_type": "stream",
     "text": [
      " 32%|█████████████████████████████████████████▊                                                                                          | 26/82 [00:26<00:57,  1.03s/it]"
     ]
    },
    {
     "name": "stdout",
     "output_type": "stream",
     "text": [
      "Participant ID: A20-131\n",
      "Stain ID: 10D5\n",
      "Brain region match: L14\n"
     ]
    },
    {
     "name": "stderr",
     "output_type": "stream",
     "text": [
      " 33%|███████████████████████████████████████████▍                                                                                        | 27/82 [00:27<00:54,  1.02it/s]"
     ]
    },
    {
     "name": "stdout",
     "output_type": "stream",
     "text": [
      "Participant ID: A20-131\n",
      "Stain ID: HE\n",
      "Brain region match: L14\n"
     ]
    },
    {
     "name": "stderr",
     "output_type": "stream",
     "text": [
      " 34%|█████████████████████████████████████████████                                                                                       | 28/82 [00:28<00:54,  1.01s/it]"
     ]
    },
    {
     "name": "stdout",
     "output_type": "stream",
     "text": [
      "Participant ID: A20-131\n",
      "Stain ID: PHF-1\n",
      "Brain region match: L14\n"
     ]
    },
    {
     "name": "stderr",
     "output_type": "stream",
     "text": [
      " 35%|██████████████████████████████████████████████▋                                                                                     | 29/82 [00:29<00:54,  1.03s/it]"
     ]
    },
    {
     "name": "stdout",
     "output_type": "stream",
     "text": [
      "Participant ID: A20-131\n",
      "Stain ID: TDP-43\n",
      "Brain region match: L14\n"
     ]
    },
    {
     "name": "stderr",
     "output_type": "stream",
     "text": [
      " 37%|████████████████████████████████████████████████▎                                                                                   | 30/82 [00:30<00:53,  1.03s/it]"
     ]
    },
    {
     "name": "stdout",
     "output_type": "stream",
     "text": [
      "Participant ID: A20-131\n",
      "Stain ID: 10D5\n",
      "Brain region match: L17\n"
     ]
    },
    {
     "name": "stderr",
     "output_type": "stream",
     "text": [
      " 38%|█████████████████████████████████████████████████▉                                                                                  | 31/82 [00:31<00:49,  1.03it/s]"
     ]
    },
    {
     "name": "stdout",
     "output_type": "stream",
     "text": [
      "Participant ID: A20-131\n",
      "Stain ID: HE\n",
      "Brain region match: L17\n"
     ]
    },
    {
     "name": "stderr",
     "output_type": "stream",
     "text": [
      " 39%|███████████████████████████████████████████████████▌                                                                                | 32/82 [00:32<00:49,  1.01it/s]"
     ]
    },
    {
     "name": "stdout",
     "output_type": "stream",
     "text": [
      "Participant ID: A20-131\n",
      "Stain ID: PHF-1\n",
      "Brain region match: L17\n"
     ]
    },
    {
     "name": "stderr",
     "output_type": "stream",
     "text": [
      " 40%|█████████████████████████████████████████████████████                                                                               | 33/82 [00:33<00:48,  1.00it/s]"
     ]
    },
    {
     "name": "stdout",
     "output_type": "stream",
     "text": [
      "Participant ID: A20-131\n",
      "Stain ID: TDP-43\n",
      "Brain region match: L17\n"
     ]
    },
    {
     "name": "stderr",
     "output_type": "stream",
     "text": [
      " 41%|██████████████████████████████████████████████████████▋                                                                             | 34/82 [00:34<00:49,  1.03s/it]"
     ]
    },
    {
     "name": "stdout",
     "output_type": "stream",
     "text": [
      "Participant ID: A20-131\n",
      "Stain ID: 10D5\n",
      "Brain region match: L19\n"
     ]
    },
    {
     "name": "stderr",
     "output_type": "stream",
     "text": [
      " 43%|████████████████████████████████████████████████████████▎                                                                           | 35/82 [00:35<00:45,  1.02it/s]"
     ]
    },
    {
     "name": "stdout",
     "output_type": "stream",
     "text": [
      "Participant ID: A20-131\n",
      "Stain ID: HE\n",
      "Brain region match: L19\n"
     ]
    },
    {
     "name": "stderr",
     "output_type": "stream",
     "text": [
      " 44%|█████████████████████████████████████████████████████████▉                                                                          | 36/82 [00:36<00:46,  1.02s/it]"
     ]
    },
    {
     "name": "stdout",
     "output_type": "stream",
     "text": [
      "Participant ID: A20-131\n",
      "Stain ID: PHF-1\n",
      "Brain region match: L19\n"
     ]
    },
    {
     "name": "stderr",
     "output_type": "stream",
     "text": [
      " 45%|███████████████████████████████████████████████████████████▌                                                                        | 37/82 [00:38<00:48,  1.07s/it]"
     ]
    },
    {
     "name": "stdout",
     "output_type": "stream",
     "text": [
      "Participant ID: A20-131\n",
      "Stain ID: TDP-43\n",
      "Brain region match: L19\n"
     ]
    },
    {
     "name": "stderr",
     "output_type": "stream",
     "text": [
      " 46%|█████████████████████████████████████████████████████████████▏                                                                      | 38/82 [00:39<00:47,  1.08s/it]"
     ]
    },
    {
     "name": "stdout",
     "output_type": "stream",
     "text": [
      "Participant ID: A20-131\n",
      "Stain ID: 10D5\n",
      "Brain region match: L1\n"
     ]
    },
    {
     "name": "stderr",
     "output_type": "stream",
     "text": [
      " 48%|██████████████████████████████████████████████████████████████▊                                                                     | 39/82 [00:40<00:43,  1.02s/it]"
     ]
    },
    {
     "name": "stdout",
     "output_type": "stream",
     "text": [
      "Participant ID: A20-131\n",
      "Stain ID: HE\n",
      "Brain region match: L1\n"
     ]
    },
    {
     "name": "stderr",
     "output_type": "stream",
     "text": [
      " 49%|████████████████████████████████████████████████████████████████▍                                                                   | 40/82 [00:41<00:43,  1.04s/it]"
     ]
    },
    {
     "name": "stdout",
     "output_type": "stream",
     "text": [
      "Participant ID: A20-131\n",
      "Stain ID: PHF-1\n",
      "Brain region match: L1\n"
     ]
    },
    {
     "name": "stderr",
     "output_type": "stream",
     "text": [
      " 50%|██████████████████████████████████████████████████████████████████                                                                  | 41/82 [00:42<00:42,  1.03s/it]"
     ]
    },
    {
     "name": "stdout",
     "output_type": "stream",
     "text": [
      "Participant ID: A20-131\n",
      "Stain ID: TDP-43\n",
      "Brain region match: L1\n"
     ]
    },
    {
     "name": "stderr",
     "output_type": "stream",
     "text": [
      " 51%|███████████████████████████████████████████████████████████████████▌                                                                | 42/82 [00:43<00:42,  1.06s/it]"
     ]
    },
    {
     "name": "stdout",
     "output_type": "stream",
     "text": [
      "Participant ID: A20-131\n",
      "Stain ID: 10D5\n",
      "Brain region match: L21\n"
     ]
    },
    {
     "name": "stderr",
     "output_type": "stream",
     "text": [
      " 52%|█████████████████████████████████████████████████████████████████████▏                                                              | 43/82 [00:44<00:39,  1.01s/it]"
     ]
    },
    {
     "name": "stdout",
     "output_type": "stream",
     "text": [
      "Participant ID: A20-131\n",
      "Stain ID: HE\n",
      "Brain region match: L21\n"
     ]
    },
    {
     "name": "stderr",
     "output_type": "stream",
     "text": [
      " 54%|██████████████████████████████████████████████████████████████████████▊                                                             | 44/82 [00:45<00:39,  1.03s/it]"
     ]
    },
    {
     "name": "stdout",
     "output_type": "stream",
     "text": [
      "Participant ID: A20-131\n",
      "Stain ID: PHF-1\n",
      "Brain region match: L21\n"
     ]
    },
    {
     "name": "stderr",
     "output_type": "stream",
     "text": [
      " 55%|████████████████████████████████████████████████████████████████████████▍                                                           | 45/82 [00:46<00:39,  1.06s/it]"
     ]
    },
    {
     "name": "stdout",
     "output_type": "stream",
     "text": [
      "Participant ID: A20-131\n",
      "Stain ID: TDP-43\n",
      "Brain region match: L21\n"
     ]
    },
    {
     "name": "stderr",
     "output_type": "stream",
     "text": [
      " 56%|██████████████████████████████████████████████████████████████████████████                                                          | 46/82 [00:47<00:37,  1.06s/it]"
     ]
    },
    {
     "name": "stdout",
     "output_type": "stream",
     "text": [
      "Participant ID: A20-131\n",
      "Stain ID: 10D5\n",
      "Brain region match: L23\n"
     ]
    },
    {
     "name": "stderr",
     "output_type": "stream",
     "text": [
      " 57%|███████████████████████████████████████████████████████████████████████████▋                                                        | 47/82 [00:48<00:36,  1.05s/it]"
     ]
    },
    {
     "name": "stdout",
     "output_type": "stream",
     "text": [
      "Participant ID: A20-131\n",
      "Stain ID: HE\n",
      "Brain region match: L23\n"
     ]
    },
    {
     "name": "stderr",
     "output_type": "stream",
     "text": [
      " 59%|█████████████████████████████████████████████████████████████████████████████▎                                                      | 48/82 [00:49<00:35,  1.06s/it]"
     ]
    },
    {
     "name": "stdout",
     "output_type": "stream",
     "text": [
      "Participant ID: A20-131\n",
      "Stain ID: PHF-1\n",
      "Brain region match: L23\n"
     ]
    },
    {
     "name": "stderr",
     "output_type": "stream",
     "text": [
      " 60%|██████████████████████████████████████████████████████████████████████████████▉                                                     | 49/82 [00:50<00:35,  1.07s/it]"
     ]
    },
    {
     "name": "stdout",
     "output_type": "stream",
     "text": [
      "Participant ID: A20-131\n",
      "Stain ID: TDP-43\n",
      "Brain region match: L23\n"
     ]
    },
    {
     "name": "stderr",
     "output_type": "stream",
     "text": [
      " 61%|████████████████████████████████████████████████████████████████████████████████▍                                                   | 50/82 [00:51<00:32,  1.02s/it]"
     ]
    },
    {
     "name": "stdout",
     "output_type": "stream",
     "text": [
      "Participant ID: A20-131\n",
      "Stain ID: HE\n",
      "Brain region match: L24A\n"
     ]
    },
    {
     "name": "stderr",
     "output_type": "stream",
     "text": [
      " 62%|██████████████████████████████████████████████████████████████████████████████████                                                  | 51/82 [00:52<00:31,  1.02s/it]"
     ]
    },
    {
     "name": "stdout",
     "output_type": "stream",
     "text": [
      "Participant ID: A20-131\n",
      "Stain ID: PHF-1\n",
      "Brain region match: L24A\n"
     ]
    },
    {
     "name": "stderr",
     "output_type": "stream",
     "text": [
      " 63%|███████████████████████████████████████████████████████████████████████████████████▋                                                | 52/82 [00:53<00:31,  1.05s/it]"
     ]
    },
    {
     "name": "stdout",
     "output_type": "stream",
     "text": [
      "Participant ID: A20-131\n",
      "Stain ID: 10D5\n",
      "Brain region match: L2\n"
     ]
    },
    {
     "name": "stderr",
     "output_type": "stream",
     "text": [
      " 65%|█████████████████████████████████████████████████████████████████████████████████████▎                                              | 53/82 [00:54<00:28,  1.01it/s]"
     ]
    },
    {
     "name": "stdout",
     "output_type": "stream",
     "text": [
      "Participant ID: A20-131\n",
      "Stain ID: HE\n",
      "Brain region match: L2\n"
     ]
    },
    {
     "name": "stderr",
     "output_type": "stream",
     "text": [
      " 66%|██████████████████████████████████████████████████████████████████████████████████████▉                                             | 54/82 [00:55<00:29,  1.05s/it]"
     ]
    },
    {
     "name": "stdout",
     "output_type": "stream",
     "text": [
      "Participant ID: A20-131\n",
      "Stain ID: PHF-1\n",
      "Brain region match: L2\n"
     ]
    },
    {
     "name": "stderr",
     "output_type": "stream",
     "text": [
      " 67%|████████████████████████████████████████████████████████████████████████████████████████▌                                           | 55/82 [00:56<00:28,  1.07s/it]"
     ]
    },
    {
     "name": "stdout",
     "output_type": "stream",
     "text": [
      "Participant ID: A20-131\n",
      "Stain ID: TDP-43\n",
      "Brain region match: L2\n"
     ]
    },
    {
     "name": "stderr",
     "output_type": "stream",
     "text": [
      " 68%|██████████████████████████████████████████████████████████████████████████████████████████▏                                         | 56/82 [00:57<00:27,  1.06s/it]"
     ]
    },
    {
     "name": "stdout",
     "output_type": "stream",
     "text": [
      "Participant ID: A20-131\n",
      "Stain ID: 10D5\n",
      "Brain region match: L30\n"
     ]
    },
    {
     "name": "stderr",
     "output_type": "stream",
     "text": [
      " 70%|███████████████████████████████████████████████████████████████████████████████████████████▊                                        | 57/82 [00:58<00:25,  1.03s/it]"
     ]
    },
    {
     "name": "stdout",
     "output_type": "stream",
     "text": [
      "Participant ID: A20-131\n",
      "Stain ID: HE\n",
      "Brain region match: L30\n"
     ]
    },
    {
     "name": "stderr",
     "output_type": "stream",
     "text": [
      " 71%|█████████████████████████████████████████████████████████████████████████████████████████████▎                                      | 58/82 [00:59<00:24,  1.04s/it]"
     ]
    },
    {
     "name": "stdout",
     "output_type": "stream",
     "text": [
      "Participant ID: A20-131\n",
      "Stain ID: PHF-1\n",
      "Brain region match: L30\n"
     ]
    },
    {
     "name": "stderr",
     "output_type": "stream",
     "text": [
      " 72%|██████████████████████████████████████████████████████████████████████████████████████████████▉                                     | 59/82 [01:01<00:24,  1.07s/it]"
     ]
    },
    {
     "name": "stdout",
     "output_type": "stream",
     "text": [
      "Participant ID: A20-131\n",
      "Stain ID: TDP-43\n",
      "Brain region match: L30\n"
     ]
    },
    {
     "name": "stderr",
     "output_type": "stream",
     "text": [
      " 73%|████████████████████████████████████████████████████████████████████████████████████████████████▌                                   | 60/82 [01:02<00:24,  1.11s/it]"
     ]
    },
    {
     "name": "stdout",
     "output_type": "stream",
     "text": [
      "Participant ID: A20-131\n",
      "Stain ID: 10D5\n",
      "Brain region match: L3\n"
     ]
    },
    {
     "name": "stderr",
     "output_type": "stream",
     "text": [
      " 74%|██████████████████████████████████████████████████████████████████████████████████████████████████▏                                 | 61/82 [01:03<00:21,  1.03s/it]"
     ]
    },
    {
     "name": "stdout",
     "output_type": "stream",
     "text": [
      "Participant ID: A20-131\n",
      "Stain ID: HE\n",
      "Brain region match: L3\n"
     ]
    },
    {
     "name": "stderr",
     "output_type": "stream",
     "text": [
      " 76%|███████████████████████████████████████████████████████████████████████████████████████████████████▊                                | 62/82 [01:04<00:21,  1.07s/it]"
     ]
    },
    {
     "name": "stdout",
     "output_type": "stream",
     "text": [
      "Participant ID: A20-131\n",
      "Stain ID: PHF-1\n",
      "Brain region match: L3\n"
     ]
    },
    {
     "name": "stderr",
     "output_type": "stream",
     "text": [
      " 77%|█████████████████████████████████████████████████████████████████████████████████████████████████████▍                              | 63/82 [01:05<00:20,  1.06s/it]"
     ]
    },
    {
     "name": "stdout",
     "output_type": "stream",
     "text": [
      "Participant ID: A20-131\n",
      "Stain ID: TDP-43\n",
      "Brain region match: L3\n"
     ]
    },
    {
     "name": "stderr",
     "output_type": "stream",
     "text": [
      " 78%|███████████████████████████████████████████████████████████████████████████████████████████████████████                             | 64/82 [01:06<00:19,  1.09s/it]"
     ]
    },
    {
     "name": "stdout",
     "output_type": "stream",
     "text": [
      "Participant ID: A20-131\n",
      "Stain ID: 10D5\n",
      "Brain region match: L4\n"
     ]
    },
    {
     "name": "stderr",
     "output_type": "stream",
     "text": [
      " 79%|████████████████████████████████████████████████████████████████████████████████████████████████████████▋                           | 65/82 [01:07<00:17,  1.04s/it]"
     ]
    },
    {
     "name": "stdout",
     "output_type": "stream",
     "text": [
      "Participant ID: A20-131\n",
      "Stain ID: HE\n",
      "Brain region match: L4\n"
     ]
    },
    {
     "name": "stderr",
     "output_type": "stream",
     "text": [
      " 80%|██████████████████████████████████████████████████████████████████████████████████████████████████████████▏                         | 66/82 [01:08<00:17,  1.07s/it]"
     ]
    },
    {
     "name": "stdout",
     "output_type": "stream",
     "text": [
      "Participant ID: A20-131\n",
      "Stain ID: PHF-1\n",
      "Brain region match: L4\n"
     ]
    },
    {
     "name": "stderr",
     "output_type": "stream",
     "text": [
      " 82%|███████████████████████████████████████████████████████████████████████████████████████████████████████████▊                        | 67/82 [01:09<00:15,  1.06s/it]"
     ]
    },
    {
     "name": "stdout",
     "output_type": "stream",
     "text": [
      "Participant ID: A20-131\n",
      "Stain ID: TDP-43\n",
      "Brain region match: L4\n"
     ]
    },
    {
     "name": "stderr",
     "output_type": "stream",
     "text": [
      " 83%|█████████████████████████████████████████████████████████████████████████████████████████████████████████████▍                      | 68/82 [01:10<00:15,  1.07s/it]"
     ]
    },
    {
     "name": "stdout",
     "output_type": "stream",
     "text": [
      "Participant ID: A20-131\n",
      "Stain ID: 10D5\n",
      "Brain region match: L5\n"
     ]
    },
    {
     "name": "stderr",
     "output_type": "stream",
     "text": [
      " 84%|███████████████████████████████████████████████████████████████████████████████████████████████████████████████                     | 69/82 [01:11<00:14,  1.09s/it]"
     ]
    },
    {
     "name": "stdout",
     "output_type": "stream",
     "text": [
      "Participant ID: A20-131\n",
      "Stain ID: PHF-1\n",
      "Brain region match: L5\n"
     ]
    },
    {
     "name": "stderr",
     "output_type": "stream",
     "text": [
      " 85%|████████████████████████████████████████████████████████████████████████████████████████████████████████████████▋                   | 70/82 [01:12<00:12,  1.08s/it]"
     ]
    },
    {
     "name": "stdout",
     "output_type": "stream",
     "text": [
      "Participant ID: A20-131\n",
      "Stain ID: TDP-43\n",
      "Brain region match: L5\n"
     ]
    },
    {
     "name": "stderr",
     "output_type": "stream",
     "text": [
      " 87%|██████████████████████████████████████████████████████████████████████████████████████████████████████████████████▎                 | 71/82 [01:13<00:11,  1.07s/it]"
     ]
    },
    {
     "name": "stdout",
     "output_type": "stream",
     "text": [
      "Participant ID: A20-131\n",
      "Stain ID: 10D5\n",
      "Brain region match: L6\n"
     ]
    },
    {
     "name": "stderr",
     "output_type": "stream",
     "text": [
      " 88%|███████████████████████████████████████████████████████████████████████████████████████████████████████████████████▉                | 72/82 [01:14<00:10,  1.01s/it]"
     ]
    },
    {
     "name": "stdout",
     "output_type": "stream",
     "text": [
      "Participant ID: A20-131\n",
      "Stain ID: HE\n",
      "Brain region match: L6\n"
     ]
    },
    {
     "name": "stderr",
     "output_type": "stream",
     "text": [
      " 89%|█████████████████████████████████████████████████████████████████████████████████████████████████████████████████████▌              | 73/82 [01:15<00:09,  1.05s/it]"
     ]
    },
    {
     "name": "stdout",
     "output_type": "stream",
     "text": [
      "Participant ID: A20-131\n",
      "Stain ID: PHF-1\n",
      "Brain region match: L6\n"
     ]
    },
    {
     "name": "stderr",
     "output_type": "stream",
     "text": [
      " 90%|███████████████████████████████████████████████████████████████████████████████████████████████████████████████████████             | 74/82 [01:16<00:08,  1.05s/it]"
     ]
    },
    {
     "name": "stdout",
     "output_type": "stream",
     "text": [
      "Participant ID: A20-131\n",
      "Stain ID: TDP-43\n",
      "Brain region match: L6\n"
     ]
    },
    {
     "name": "stderr",
     "output_type": "stream",
     "text": [
      " 91%|████████████████████████████████████████████████████████████████████████████████████████████████████████████████████████▋           | 75/82 [01:18<00:07,  1.10s/it]"
     ]
    },
    {
     "name": "stdout",
     "output_type": "stream",
     "text": [
      "Participant ID: A20-131\n",
      "Stain ID: 10D5\n",
      "Brain region match: L8\n"
     ]
    },
    {
     "name": "stderr",
     "output_type": "stream",
     "text": [
      " 93%|██████████████████████████████████████████████████████████████████████████████████████████████████████████████████████████▎         | 76/82 [01:19<00:06,  1.02s/it]"
     ]
    },
    {
     "name": "stdout",
     "output_type": "stream",
     "text": [
      "Participant ID: A20-131\n",
      "Stain ID: HE\n",
      "Brain region match: L8\n"
     ]
    },
    {
     "name": "stderr",
     "output_type": "stream",
     "text": [
      " 94%|███████████████████████████████████████████████████████████████████████████████████████████████████████████████████████████▉        | 77/82 [01:20<00:05,  1.04s/it]"
     ]
    },
    {
     "name": "stdout",
     "output_type": "stream",
     "text": [
      "Participant ID: A20-131\n",
      "Stain ID: PHF-1\n",
      "Brain region match: L8\n"
     ]
    },
    {
     "name": "stderr",
     "output_type": "stream",
     "text": [
      " 95%|█████████████████████████████████████████████████████████████████████████████████████████████████████████████████████████████▌      | 78/82 [01:21<00:04,  1.10s/it]"
     ]
    },
    {
     "name": "stdout",
     "output_type": "stream",
     "text": [
      "Participant ID: A20-131\n",
      "Stain ID: TDP-43\n",
      "Brain region match: L8\n"
     ]
    },
    {
     "name": "stderr",
     "output_type": "stream",
     "text": [
      " 96%|███████████████████████████████████████████████████████████████████████████████████████████████████████████████████████████████▏    | 79/82 [01:22<00:03,  1.09s/it]"
     ]
    },
    {
     "name": "stdout",
     "output_type": "stream",
     "text": [
      "Participant ID: A20-131\n",
      "Stain ID: 10D5\n",
      "Brain region match: L9\n"
     ]
    },
    {
     "name": "stderr",
     "output_type": "stream",
     "text": [
      " 98%|████████████████████████████████████████████████████████████████████████████████████████████████████████████████████████████████▊   | 80/82 [01:23<00:02,  1.03s/it]"
     ]
    },
    {
     "name": "stdout",
     "output_type": "stream",
     "text": [
      "Participant ID: A20-131\n",
      "Stain ID: HE\n",
      "Brain region match: L9\n"
     ]
    },
    {
     "name": "stderr",
     "output_type": "stream",
     "text": [
      " 99%|██████████████████████████████████████████████████████████████████████████████████████████████████████████████████████████████████▍ | 81/82 [01:24<00:01,  1.04s/it]"
     ]
    },
    {
     "name": "stdout",
     "output_type": "stream",
     "text": [
      "Participant ID: A20-131\n",
      "Stain ID: PHF-1\n",
      "Brain region match: L9\n"
     ]
    },
    {
     "name": "stderr",
     "output_type": "stream",
     "text": [
      "100%|████████████████████████████████████████████████████████████████████████████████████████████████████████████████████████████████████| 82/82 [01:25<00:00,  1.04s/it]"
     ]
    },
    {
     "name": "stdout",
     "output_type": "stream",
     "text": [
      "Participant ID: A20-131\n",
      "Stain ID: TDP-43\n",
      "Brain region match: L9\n",
      "Successfully processed 66 files. Moved 16 files to the 'failed' folder.\n"
     ]
    },
    {
     "name": "stderr",
     "output_type": "stream",
     "text": [
      "\n"
     ]
    }
   ],
   "source": [
    "from paddleocr import PaddleOCR, draw_ocr\n",
    "import os,glob,csv,math,json,re,math,cv2,slideio,logging\n",
    "import numpy as np\n",
    "import matplotlib.pyplot as plt\n",
    "from matplotlib.font_manager import FontProperties\n",
    "from IPython.display import display, HTML\n",
    "from fuzzywuzzy import fuzz\n",
    "from tqdm import tqdm\n",
    "\n",
    "# Setup model\n",
    "ocr_model = PaddleOCR(lang='en',use_angle_cls = False,show_log=False)\n",
    "\n",
    "import logging\n",
    "from ppocr.utils.logging import get_logger as ppocr_get_logger\n",
    "ppocr_get_logger().setLevel(logging.ERROR)\n",
    "\n",
    "# Open our folder and list the number of files inside\n",
    "folder_name,type = 'A20-131','svs' # Specify the folder name (first param) and file type (second param)\n",
    "folder = glob.glob(f\"{folder_name}/*.{type}\")\n",
    "print(f\"{len(folder)} {type} files identified.\")\n",
    "# Create the 'failed' folder if it doesn't exist\n",
    "failed_folder = os.path.join(os.path.dirname(os.path.abspath(folder_name)), folder_name, 'failed')\n",
    "os.makedirs(failed_folder, exist_ok=True)\n",
    "\n",
    "def move_to_failed_folder(file, folder):\n",
    "    failed_file = os.path.join(failed_folder, os.path.basename(file))\n",
    "    os.rename(file, failed_file)\n",
    "\n",
    "columns = ['participant_id', 'stain_id', 'brain_region','label']\n",
    "csv_filename = f\"{folder_name}.csv\"  # Change this to your desired file name\n",
    "\n",
    "with open(csv_filename, 'w', newline='') as csvfile:\n",
    "    csv_writer = csv.writer(csvfile)\n",
    "    csv_writer.writerow(columns)\n",
    "\n",
    "label_count = 0\n",
    "failed_count = 0\n",
    "good = True\n",
    "\n",
    "while good == True:\n",
    "    for file in tqdm(folder):\n",
    "        slide = slideio.open_slide(file)\n",
    "        scene = slide.get_scene(0)\n",
    "        # print(scene)\n",
    "        # This part gets the image per slide\n",
    "        image_names = slide.get_aux_image_names()\n",
    "        images = []\n",
    "\n",
    "        for name in image_names:\n",
    "\n",
    "            if name == 'Label':\n",
    "                image = slide.get_aux_image_raster(name)\n",
    "                images.append(image)\n",
    "                rotated_image = np.rot90(image, k=-1) # Capture a rotated image of the label\n",
    "                result = ocr_model.ocr(rotated_image) # Process rotated image with Paddle\n",
    "                good = True\n",
    "                # Build a list containing all chunks identified by Paddle\n",
    "                text_list = []\n",
    "\n",
    "                for result_group in result:\n",
    "\n",
    "                    for text_region in result_group:\n",
    "                        text, confidence = text_region[1]  # Extract text and confidence\n",
    "                        # print(\"Text:\", text); print(\"Confidence:\", confidence)\n",
    "                        text_list.append(text)\n",
    "                        # Coordinates are stored in text_region[0] if needed\n",
    "\n",
    "                garbage = ['starfrost', 'adrc']  # Clean the result a little\n",
    "                text_list = [thing for thing in text_list if thing.lower() not in garbage]\n",
    "                logging.info(f\"The current text list is: {text_list}. If empty, this will fail later.\")\n",
    "\n",
    "                try:\n",
    "                    # Phase 1: Gather the Participant ID:\n",
    "                    logging.info(\"Starting Phase 1\")\n",
    "                    participant_pattern = r'([A-Z0-9]{3})-([A-Z0-9]{3})'\n",
    "                    participant_matches = [re.search(participant_pattern, i) for i in text_list if re.search(participant_pattern, i)]\n",
    "                    participant_id = [match[0] for match in participant_matches]\n",
    "                    participant_id = participant_id[0]; print(f\"Participant ID: {participant_id}\")\n",
    "                except Exception as e:\n",
    "                    logging.critical(\"Error in phase 1\")\n",
    "                    logging.error(f\"An exception occurred while processing file: {file}\")\n",
    "                    logging.error(f\"Exception details: {e} Participant ID\")\n",
    "                    good = False\n",
    "                    move_to_failed_folder(file, failed_folder); failed_count += 1\n",
    "                    continue\n",
    "\n",
    "                try:\n",
    "                    # Phase 2: Gather the Stain ID:\n",
    "                    logging.info(\"Starting Phase 2\")\n",
    "                    predefined_choices = ['LB509', 'HE', 'PHF-1', 'TDP-43', '10D5'] # Stain Choices\n",
    "                    stain_id = None\n",
    "                    best_similarity = 0\n",
    "                    for i in text_list:\n",
    "                        for choice in predefined_choices:\n",
    "                            similarity = fuzz.ratio(i, choice)  # Calculate Lebenshtein distance\n",
    "                            if similarity > best_similarity:\n",
    "                                best_similarity = similarity\n",
    "                                stain_id = choice\n",
    "                    print(f\"Stain ID: {stain_id}\")\n",
    "                except Exception as e:\n",
    "                    logging.critical(\"Error in phase 2\")\n",
    "                    logging.error(f\"An exception occurred while processing file: {file}\")\n",
    "                    logging.error(f\"Exception details: {e} (Stain ID)\")\n",
    "                    good = False\n",
    "                    move_to_failed_folder(file, failed_folder); failed_count += 1\n",
    "                    continue\n",
    "\n",
    "                try:\n",
    "                    # Phase 3: Gather the Brain Region ID:\n",
    "                    logging.info(\"Starting Phase 3\")\n",
    "                    brain_region_pattern = r'\\bL\\d+[A-Z]?\\b'\n",
    "                    brain_region_matchs = [re.search(brain_region_pattern, i) for i in text_list if re.search(brain_region_pattern, i)]\n",
    "                    brain_region = [match[0] for match in brain_region_matchs]\n",
    "                    brain_region = brain_region[0]; print(f\"Brain region match: {brain_region}\")\n",
    "                except Exception as e:\n",
    "                    logging.critical(\"Error in phase 3\")\n",
    "                    logging.error(f\"An exception occurred while processing file: {file}\")\n",
    "                    logging.error(f\"Exception details: {e} (Brain Region)\")\n",
    "                    good = False\n",
    "                    move_to_failed_folder(file, failed_folder); failed_count += 1\n",
    "                    continue\n",
    "\n",
    "                # Phase 4 Print Results:\n",
    "                logging.info(\"Starting Phase 4\")\n",
    "                if good == True:\n",
    "                    label_count += 1\n",
    "                    # Write the rows to the CSV file\n",
    "                    with open(f'{folder_name}.csv', mode='a', newline='') as csv_file:\n",
    "                        csv_writer = csv.writer(csv_file)\n",
    "                        label = f\"{participant_id}_{brain_region}_{stain_id}\"\n",
    "                        csv_writer.writerow([participant_id, stain_id, brain_region, label])\n",
    "                    # Phase 5 Rename Each File:\n",
    "                    new_name = os.path.join(os.path.dirname(file), label + \".svs\")\n",
    "                    os.rename(file, new_name)\n",
    "                    logging.info(\"Finished Phase 4. Beginning new loop.\")\n",
    "                    \n",
    "    break # Kill the loop after 1 file.\n",
    "# Print Summary\n",
    "print(f\"Successfully processed {label_count} files. Moved {failed_count} files to the 'failed' folder.\")"
   ]
  }
 ],
 "metadata": {
  "kernelspec": {
   "display_name": "Python 3 (ipykernel)",
   "language": "python",
   "name": "python3"
  },
  "language_info": {
   "codemirror_mode": {
    "name": "ipython",
    "version": 3
   },
   "file_extension": ".py",
   "mimetype": "text/x-python",
   "name": "python",
   "nbconvert_exporter": "python",
   "pygments_lexer": "ipython3",
   "version": "3.7.16"
  }
 },
 "nbformat": 4,
 "nbformat_minor": 5
}
