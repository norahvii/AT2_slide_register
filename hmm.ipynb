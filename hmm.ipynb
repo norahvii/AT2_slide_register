{
 "cells": [
  {
   "cell_type": "code",
   "execution_count": 1,
   "id": "9b6b2d9d-df90-44e1-af09-26d27934a5fc",
   "metadata": {
    "tags": []
   },
   "outputs": [],
   "source": [
    "from paddleocr import PaddleOCR, draw_ocr\n",
    "import os,glob,csv,math,json,re,math,cv2,slideio,logging\n",
    "import numpy as np\n",
    "import matplotlib.pyplot as plt\n",
    "from matplotlib.font_manager import FontProperties\n",
    "from IPython.display import display, HTML\n",
    "from fuzzywuzzy import fuzz\n",
    "from tqdm import tqdm"
   ]
  },
  {
   "cell_type": "code",
   "execution_count": 2,
   "id": "b47e39f2-59b7-401e-85b1-5c54f8844f77",
   "metadata": {
    "tags": []
   },
   "outputs": [
    {
     "name": "stdout",
     "output_type": "stream",
     "text": [
      "91 svs files identified.\n"
     ]
    }
   ],
   "source": [
    "# Setup model\n",
    "ocr_model = PaddleOCR(lang='en',use_angle_cls = False,show_log=False)\n",
    "\n",
    "import logging\n",
    "from ppocr.utils.logging import get_logger as ppocr_get_logger\n",
    "ppocr_get_logger().setLevel(logging.ERROR)\n",
    "\n",
    "# Open our folder and list the number of files inside\n",
    "folder_name,type = 'A20-131','svs' # Specify the folder name (first param) and file type (second param)\n",
    "folder = glob.glob(f\"{folder_name}/*.{type}\")\n",
    "print(f\"{len(folder)} {type} files identified.\")\n",
    "# Create the 'failed' folder if it doesn't exist\n",
    "failed_folder = os.path.join(os.path.dirname(os.path.abspath(folder_name)), folder_name, 'failed')\n",
    "os.makedirs(failed_folder, exist_ok=True)\n",
    "\n",
    "def move_to_failed_folder(file, folder):\n",
    "    failed_file = os.path.join(failed_folder, os.path.basename(file))\n",
    "    os.rename(file, failed_file)\n",
    "\n",
    "columns = ['participant_id', 'stain_id', 'brain_region','label']\n",
    "csv_filename = f\"{folder_name}.csv\"  # Change this to your desired file name\n",
    "\n",
    "with open(csv_filename, 'w', newline='') as csvfile:\n",
    "    csv_writer = csv.writer(csvfile)\n",
    "    csv_writer.writerow(columns)\n",
    "\n",
    "label_count = 0\n",
    "failed_count = 0\n",
    "good = True"
   ]
  },
  {
   "cell_type": "code",
   "execution_count": 3,
   "id": "b7921eb9-a0ad-4e33-8361-bcf99da2f803",
   "metadata": {},
   "outputs": [
    {
     "name": "stderr",
     "output_type": "stream",
     "text": [
      "  0%|                                                                                                                                             | 0/91 [00:00<?, ?it/s]ERROR:root:An exception occurred while processing file: A20-131/1005821.svs\n",
      "ERROR:root:Exception details: list index out of range (Brain Region)\n",
      "  1%|█▍                                                                                                                                   | 1/91 [00:01<01:52,  1.25s/it]"
     ]
    },
    {
     "name": "stdout",
     "output_type": "stream",
     "text": [
      "Participant ID: A20-131\n",
      "Stain ID: HE\n"
     ]
    },
    {
     "name": "stderr",
     "output_type": "stream",
     "text": [
      "  2%|██▉                                                                                                                                  | 2/91 [00:02<01:55,  1.30s/it]"
     ]
    },
    {
     "name": "stdout",
     "output_type": "stream",
     "text": [
      "Participant ID: A20-131\n",
      "Stain ID: 10D5\n",
      "Brain region match: L5\n"
     ]
    },
    {
     "name": "stderr",
     "output_type": "stream",
     "text": [
      "  3%|████▍                                                                                                                                | 3/91 [00:03<01:53,  1.29s/it]"
     ]
    },
    {
     "name": "stdout",
     "output_type": "stream",
     "text": [
      "Participant ID: A20-131\n",
      "Stain ID: PHF-1\n",
      "Brain region match: L5\n"
     ]
    },
    {
     "name": "stderr",
     "output_type": "stream",
     "text": [
      "  4%|█████▊                                                                                                                               | 4/91 [00:05<02:16,  1.57s/it]"
     ]
    },
    {
     "name": "stdout",
     "output_type": "stream",
     "text": [
      "Participant ID: A20-131\n",
      "Stain ID: PHF-1\n",
      "Brain region match: L5\n"
     ]
    },
    {
     "name": "stderr",
     "output_type": "stream",
     "text": [
      "  5%|███████▎                                                                                                                             | 5/91 [00:07<02:08,  1.50s/it]"
     ]
    },
    {
     "name": "stdout",
     "output_type": "stream",
     "text": [
      "Participant ID: A20-131\n",
      "Stain ID: TDP-43\n",
      "Brain region match: L5\n"
     ]
    },
    {
     "name": "stderr",
     "output_type": "stream",
     "text": [
      "  7%|████████▊                                                                                                                            | 6/91 [00:08<01:52,  1.33s/it]"
     ]
    },
    {
     "name": "stdout",
     "output_type": "stream",
     "text": [
      "Participant ID: A20-131\n",
      "Stain ID: HE\n",
      "Brain region match: L6\n"
     ]
    },
    {
     "name": "stderr",
     "output_type": "stream",
     "text": [
      "  8%|██████████▏                                                                                                                          | 7/91 [00:09<01:49,  1.30s/it]"
     ]
    },
    {
     "name": "stdout",
     "output_type": "stream",
     "text": [
      "Participant ID: A20-131\n",
      "Stain ID: PHF-1\n",
      "Brain region match: L6\n"
     ]
    },
    {
     "name": "stderr",
     "output_type": "stream",
     "text": [
      "  9%|███████████▋                                                                                                                         | 8/91 [00:10<01:50,  1.33s/it]"
     ]
    },
    {
     "name": "stdout",
     "output_type": "stream",
     "text": [
      "Participant ID: A20-131\n",
      "Stain ID: 10D5\n",
      "Brain region match: L6\n"
     ]
    },
    {
     "name": "stderr",
     "output_type": "stream",
     "text": [
      " 10%|█████████████▏                                                                                                                       | 9/91 [00:12<01:46,  1.30s/it]"
     ]
    },
    {
     "name": "stdout",
     "output_type": "stream",
     "text": [
      "Participant ID: A20-131\n",
      "Stain ID: PHF-1\n",
      "Brain region match: L6\n"
     ]
    },
    {
     "name": "stderr",
     "output_type": "stream",
     "text": [
      " 11%|██████████████▌                                                                                                                     | 10/91 [00:13<01:45,  1.31s/it]"
     ]
    },
    {
     "name": "stdout",
     "output_type": "stream",
     "text": [
      "Participant ID: A20-131\n",
      "Stain ID: TDP-43\n",
      "Brain region match: L6\n"
     ]
    },
    {
     "name": "stderr",
     "output_type": "stream",
     "text": [
      " 12%|███████████████▉                                                                                                                    | 11/91 [00:14<01:39,  1.24s/it]"
     ]
    },
    {
     "name": "stdout",
     "output_type": "stream",
     "text": [
      "Participant ID: A20-131\n",
      "Stain ID: HE\n",
      "Brain region match: L17\n"
     ]
    },
    {
     "name": "stderr",
     "output_type": "stream",
     "text": [
      " 13%|█████████████████▍                                                                                                                  | 12/91 [00:15<01:39,  1.26s/it]"
     ]
    },
    {
     "name": "stdout",
     "output_type": "stream",
     "text": [
      "Participant ID: A20-131\n",
      "Stain ID: 10D5\n",
      "Brain region match: L17\n"
     ]
    },
    {
     "name": "stderr",
     "output_type": "stream",
     "text": [
      " 14%|██████████████████▊                                                                                                                 | 13/91 [00:17<01:39,  1.28s/it]"
     ]
    },
    {
     "name": "stdout",
     "output_type": "stream",
     "text": [
      "Participant ID: A20-131\n",
      "Stain ID: PHF-1\n",
      "Brain region match: L17\n"
     ]
    },
    {
     "name": "stderr",
     "output_type": "stream",
     "text": [
      " 15%|████████████████████▎                                                                                                               | 14/91 [00:18<01:36,  1.26s/it]"
     ]
    },
    {
     "name": "stdout",
     "output_type": "stream",
     "text": [
      "Participant ID: A20-131\n",
      "Stain ID: PHF-1\n",
      "Brain region match: L17\n"
     ]
    },
    {
     "name": "stderr",
     "output_type": "stream",
     "text": [
      " 16%|█████████████████████▊                                                                                                              | 15/91 [00:19<01:40,  1.32s/it]"
     ]
    },
    {
     "name": "stdout",
     "output_type": "stream",
     "text": [
      "Participant ID: A20-131\n",
      "Stain ID: TDP-43\n",
      "Brain region match: L17\n"
     ]
    },
    {
     "name": "stderr",
     "output_type": "stream",
     "text": [
      " 18%|███████████████████████▏                                                                                                            | 16/91 [00:20<01:33,  1.25s/it]"
     ]
    },
    {
     "name": "stdout",
     "output_type": "stream",
     "text": [
      "Participant ID: A20-131\n",
      "Stain ID: HE\n",
      "Brain region match: L8\n"
     ]
    },
    {
     "name": "stderr",
     "output_type": "stream",
     "text": [
      " 19%|████████████████████████▋                                                                                                           | 17/91 [00:22<01:36,  1.31s/it]"
     ]
    },
    {
     "name": "stdout",
     "output_type": "stream",
     "text": [
      "Participant ID: A20-131\n",
      "Stain ID: 10D5\n",
      "Brain region match: L8\n"
     ]
    },
    {
     "name": "stderr",
     "output_type": "stream",
     "text": [
      " 20%|██████████████████████████                                                                                                          | 18/91 [00:23<01:35,  1.30s/it]"
     ]
    },
    {
     "name": "stdout",
     "output_type": "stream",
     "text": [
      "Participant ID: A20-131\n",
      "Stain ID: PHF-1\n",
      "Brain region match: L8\n"
     ]
    },
    {
     "name": "stderr",
     "output_type": "stream",
     "text": [
      " 21%|███████████████████████████▌                                                                                                        | 19/91 [00:24<01:33,  1.30s/it]"
     ]
    },
    {
     "name": "stdout",
     "output_type": "stream",
     "text": [
      "Participant ID: A20-131\n",
      "Stain ID: PHF-1\n",
      "Brain region match: L8\n"
     ]
    },
    {
     "name": "stderr",
     "output_type": "stream",
     "text": [
      " 22%|█████████████████████████████                                                                                                       | 20/91 [00:26<01:34,  1.34s/it]"
     ]
    },
    {
     "name": "stdout",
     "output_type": "stream",
     "text": [
      "Participant ID: A20-131\n",
      "Stain ID: TDP-43\n",
      "Brain region match: L8\n"
     ]
    },
    {
     "name": "stderr",
     "output_type": "stream",
     "text": [
      " 23%|██████████████████████████████▍                                                                                                     | 21/91 [00:27<01:25,  1.22s/it]"
     ]
    },
    {
     "name": "stdout",
     "output_type": "stream",
     "text": [
      "Participant ID: A20-131\n",
      "Stain ID: HE\n",
      "Brain region match: L9\n"
     ]
    },
    {
     "name": "stderr",
     "output_type": "stream",
     "text": [
      " 24%|███████████████████████████████▉                                                                                                    | 22/91 [00:28<01:27,  1.27s/it]"
     ]
    },
    {
     "name": "stdout",
     "output_type": "stream",
     "text": [
      "Participant ID: A20-131\n",
      "Stain ID: 10D5\n",
      "Brain region match: L9\n"
     ]
    },
    {
     "name": "stderr",
     "output_type": "stream",
     "text": [
      " 25%|█████████████████████████████████▎                                                                                                  | 23/91 [00:29<01:24,  1.24s/it]"
     ]
    },
    {
     "name": "stdout",
     "output_type": "stream",
     "text": [
      "Participant ID: A20-131\n",
      "Stain ID: PHF-1\n",
      "Brain region match: L9\n"
     ]
    },
    {
     "name": "stderr",
     "output_type": "stream",
     "text": [
      " 26%|██████████████████████████████████▊                                                                                                 | 24/91 [00:31<01:24,  1.26s/it]"
     ]
    },
    {
     "name": "stdout",
     "output_type": "stream",
     "text": [
      "Participant ID: A20-131\n",
      "Stain ID: PHF-1\n",
      "Brain region match: L9\n"
     ]
    },
    {
     "name": "stderr",
     "output_type": "stream",
     "text": [
      " 27%|████████████████████████████████████▎                                                                                               | 25/91 [00:32<01:24,  1.29s/it]"
     ]
    },
    {
     "name": "stdout",
     "output_type": "stream",
     "text": [
      "Participant ID: A20-131\n",
      "Stain ID: TDP-43\n",
      "Brain region match: L9\n"
     ]
    },
    {
     "name": "stderr",
     "output_type": "stream",
     "text": [
      "ERROR:root:An exception occurred while processing file: A20-131/1005846.svs\n",
      "ERROR:root:Exception details: list index out of range (Brain Region)\n",
      " 29%|█████████████████████████████████████▋                                                                                              | 26/91 [00:33<01:21,  1.26s/it]"
     ]
    },
    {
     "name": "stdout",
     "output_type": "stream",
     "text": [
      "Participant ID: A20-131\n",
      "Stain ID: HE\n"
     ]
    },
    {
     "name": "stderr",
     "output_type": "stream",
     "text": [
      " 30%|███████████████████████████████████████▏                                                                                            | 27/91 [00:34<01:19,  1.24s/it]"
     ]
    },
    {
     "name": "stdout",
     "output_type": "stream",
     "text": [
      "Participant ID: A20-131\n",
      "Stain ID: 10D5\n",
      "Brain region match: L11\n"
     ]
    },
    {
     "name": "stderr",
     "output_type": "stream",
     "text": [
      " 31%|████████████████████████████████████████▌                                                                                           | 28/91 [00:36<01:21,  1.30s/it]"
     ]
    },
    {
     "name": "stdout",
     "output_type": "stream",
     "text": [
      "Participant ID: A20-131\n",
      "Stain ID: PHF-1\n",
      "Brain region match: L11\n"
     ]
    },
    {
     "name": "stderr",
     "output_type": "stream",
     "text": [
      " 32%|██████████████████████████████████████████                                                                                          | 29/91 [00:37<01:21,  1.32s/it]"
     ]
    },
    {
     "name": "stdout",
     "output_type": "stream",
     "text": [
      "Participant ID: A20-131\n",
      "Stain ID: PHF-1\n",
      "Brain region match: L11\n"
     ]
    },
    {
     "name": "stderr",
     "output_type": "stream",
     "text": [
      " 33%|███████████████████████████████████████████▌                                                                                        | 30/91 [00:39<01:22,  1.35s/it]"
     ]
    },
    {
     "name": "stdout",
     "output_type": "stream",
     "text": [
      "Participant ID: A20-131\n",
      "Stain ID: TDP-43\n",
      "Brain region match: L11\n"
     ]
    },
    {
     "name": "stderr",
     "output_type": "stream",
     "text": [
      " 34%|████████████████████████████████████████████▉                                                                                       | 31/91 [00:40<01:25,  1.43s/it]"
     ]
    },
    {
     "name": "stdout",
     "output_type": "stream",
     "text": [
      "Participant ID: A20-131\n",
      "Stain ID: HE\n",
      "Brain region match: L12\n"
     ]
    },
    {
     "name": "stderr",
     "output_type": "stream",
     "text": [
      " 35%|██████████████████████████████████████████████▍                                                                                     | 32/91 [00:43<01:52,  1.91s/it]"
     ]
    },
    {
     "name": "stdout",
     "output_type": "stream",
     "text": [
      "Participant ID: A20-131\n",
      "Stain ID: 10D5\n",
      "Brain region match: L12\n"
     ]
    },
    {
     "name": "stderr",
     "output_type": "stream",
     "text": [
      " 36%|███████████████████████████████████████████████▊                                                                                    | 33/91 [00:44<01:37,  1.67s/it]"
     ]
    },
    {
     "name": "stdout",
     "output_type": "stream",
     "text": [
      "Participant ID: A20-131\n",
      "Stain ID: PHF-1\n",
      "Brain region match: L12\n"
     ]
    },
    {
     "name": "stderr",
     "output_type": "stream",
     "text": [
      " 37%|█████████████████████████████████████████████████▎                                                                                  | 34/91 [00:46<01:26,  1.52s/it]"
     ]
    },
    {
     "name": "stdout",
     "output_type": "stream",
     "text": [
      "Participant ID: A20-131\n",
      "Stain ID: PHF-1\n",
      "Brain region match: L12\n"
     ]
    },
    {
     "name": "stderr",
     "output_type": "stream",
     "text": [
      " 38%|██████████████████████████████████████████████████▊                                                                                 | 35/91 [00:47<01:21,  1.46s/it]"
     ]
    },
    {
     "name": "stdout",
     "output_type": "stream",
     "text": [
      "Participant ID: A20-131\n",
      "Stain ID: TDP-43\n",
      "Brain region match: L12\n"
     ]
    },
    {
     "name": "stderr",
     "output_type": "stream",
     "text": [
      "ERROR:root:An exception occurred while processing file: A20-131/1005856.svs\n",
      "ERROR:root:Exception details: list index out of range (Brain Region)\n",
      " 40%|████████████████████████████████████████████████████▏                                                                               | 36/91 [00:48<01:10,  1.29s/it]"
     ]
    },
    {
     "name": "stdout",
     "output_type": "stream",
     "text": [
      "Participant ID: A20-131\n",
      "Stain ID: HE\n"
     ]
    },
    {
     "name": "stderr",
     "output_type": "stream",
     "text": [
      " 41%|█████████████████████████████████████████████████████▋                                                                              | 37/91 [00:49<01:07,  1.24s/it]"
     ]
    },
    {
     "name": "stdout",
     "output_type": "stream",
     "text": [
      "Participant ID: A20-131\n",
      "Stain ID: 10D5\n",
      "Brain region match: L13\n"
     ]
    },
    {
     "name": "stderr",
     "output_type": "stream",
     "text": [
      " 42%|███████████████████████████████████████████████████████                                                                             | 38/91 [00:50<01:08,  1.29s/it]"
     ]
    },
    {
     "name": "stdout",
     "output_type": "stream",
     "text": [
      "Participant ID: A20-131\n",
      "Stain ID: PHF-1\n",
      "Brain region match: L13\n"
     ]
    },
    {
     "name": "stderr",
     "output_type": "stream",
     "text": [
      "ERROR:root:An exception occurred while processing file: A20-131/1005859.svs\n",
      "ERROR:root:Exception details: list index out of range (Brain Region)\n",
      " 43%|████████████████████████████████████████████████████████▌                                                                           | 39/91 [00:51<01:04,  1.24s/it]"
     ]
    },
    {
     "name": "stdout",
     "output_type": "stream",
     "text": [
      "Participant ID: A20-131\n",
      "Stain ID: PHF-1\n"
     ]
    },
    {
     "name": "stderr",
     "output_type": "stream",
     "text": [
      "ERROR:root:An exception occurred while processing file: A20-131/1005860.svs\n",
      "ERROR:root:Exception details: list index out of range (Brain Region)\n",
      " 44%|██████████████████████████████████████████████████████████                                                                          | 40/91 [00:53<01:01,  1.20s/it]"
     ]
    },
    {
     "name": "stdout",
     "output_type": "stream",
     "text": [
      "Participant ID: A20-131\n",
      "Stain ID: TDP-43\n"
     ]
    },
    {
     "name": "stderr",
     "output_type": "stream",
     "text": [
      " 45%|███████████████████████████████████████████████████████████▍                                                                        | 41/91 [00:54<00:56,  1.13s/it]"
     ]
    },
    {
     "name": "stdout",
     "output_type": "stream",
     "text": [
      "Participant ID: A20-131\n",
      "Stain ID: HE\n",
      "Brain region match: L14\n"
     ]
    },
    {
     "name": "stderr",
     "output_type": "stream",
     "text": [
      " 46%|████████████████████████████████████████████████████████████▉                                                                       | 42/91 [00:55<00:55,  1.14s/it]"
     ]
    },
    {
     "name": "stdout",
     "output_type": "stream",
     "text": [
      "Participant ID: A20-131\n",
      "Stain ID: 10D5\n",
      "Brain region match: L14\n"
     ]
    },
    {
     "name": "stderr",
     "output_type": "stream",
     "text": [
      " 47%|██████████████████████████████████████████████████████████████▎                                                                     | 43/91 [00:56<00:57,  1.20s/it]"
     ]
    },
    {
     "name": "stdout",
     "output_type": "stream",
     "text": [
      "Participant ID: A20-131\n",
      "Stain ID: PHF-1\n",
      "Brain region match: L14\n"
     ]
    },
    {
     "name": "stderr",
     "output_type": "stream",
     "text": [
      " 48%|███████████████████████████████████████████████████████████████▊                                                                    | 44/91 [00:57<01:00,  1.28s/it]"
     ]
    },
    {
     "name": "stdout",
     "output_type": "stream",
     "text": [
      "Participant ID: A20-131\n",
      "Stain ID: PHF-1\n",
      "Brain region match: L14\n"
     ]
    },
    {
     "name": "stderr",
     "output_type": "stream",
     "text": [
      " 49%|█████████████████████████████████████████████████████████████████▎                                                                  | 45/91 [00:59<00:58,  1.28s/it]"
     ]
    },
    {
     "name": "stdout",
     "output_type": "stream",
     "text": [
      "Participant ID: A20-131\n",
      "Stain ID: TDP-43\n",
      "Brain region match: L14\n"
     ]
    },
    {
     "name": "stderr",
     "output_type": "stream",
     "text": [
      " 51%|██████████████████████████████████████████████████████████████████▋                                                                 | 46/91 [01:00<00:53,  1.19s/it]"
     ]
    },
    {
     "name": "stdout",
     "output_type": "stream",
     "text": [
      "Participant ID: A20-131\n",
      "Stain ID: HE\n",
      "Brain region match: L30\n"
     ]
    },
    {
     "name": "stderr",
     "output_type": "stream",
     "text": [
      " 52%|████████████████████████████████████████████████████████████████████▏                                                               | 47/91 [01:01<00:56,  1.29s/it]"
     ]
    },
    {
     "name": "stdout",
     "output_type": "stream",
     "text": [
      "Participant ID: A20-131\n",
      "Stain ID: 10D5\n",
      "Brain region match: L30\n"
     ]
    },
    {
     "name": "stderr",
     "output_type": "stream",
     "text": [
      " 53%|█████████████████████████████████████████████████████████████████████▋                                                              | 48/91 [01:03<00:59,  1.39s/it]"
     ]
    },
    {
     "name": "stdout",
     "output_type": "stream",
     "text": [
      "Participant ID: A20-131\n",
      "Stain ID: PHF-1\n",
      "Brain region match: L30\n"
     ]
    },
    {
     "name": "stderr",
     "output_type": "stream",
     "text": [
      " 54%|███████████████████████████████████████████████████████████████████████                                                             | 49/91 [01:04<00:56,  1.36s/it]"
     ]
    },
    {
     "name": "stdout",
     "output_type": "stream",
     "text": [
      "Participant ID: A20-131\n",
      "Stain ID: PHF-1\n",
      "Brain region match: L30\n"
     ]
    },
    {
     "name": "stderr",
     "output_type": "stream",
     "text": [
      " 55%|████████████████████████████████████████████████████████████████████████▌                                                           | 50/91 [01:05<00:54,  1.33s/it]"
     ]
    },
    {
     "name": "stdout",
     "output_type": "stream",
     "text": [
      "Participant ID: A20-131\n",
      "Stain ID: TDP-43\n",
      "Brain region match: L30\n"
     ]
    },
    {
     "name": "stderr",
     "output_type": "stream",
     "text": [
      "ERROR:root:An exception occurred while processing file: A20-131/1005871.svs\n",
      "ERROR:root:Exception details: list index out of range (Brain Region)\n",
      " 56%|█████████████████████████████████████████████████████████████████████████▉                                                          | 51/91 [01:06<00:50,  1.25s/it]"
     ]
    },
    {
     "name": "stdout",
     "output_type": "stream",
     "text": [
      "Participant ID: A20-131\n",
      "Stain ID: HE\n"
     ]
    },
    {
     "name": "stderr",
     "output_type": "stream",
     "text": [
      "ERROR:root:An exception occurred while processing file: A20-131/1005872.svs\n",
      "ERROR:root:Exception details: list index out of range (Brain Region)\n",
      " 57%|███████████████████████████████████████████████████████████████████████████▍                                                        | 52/91 [01:08<00:47,  1.21s/it]"
     ]
    },
    {
     "name": "stdout",
     "output_type": "stream",
     "text": [
      "Participant ID: A20-131\n",
      "Stain ID: HE\n"
     ]
    },
    {
     "name": "stderr",
     "output_type": "stream",
     "text": [
      " 58%|████████████████████████████████████████████████████████████████████████████▉                                                       | 53/91 [01:09<00:43,  1.15s/it]"
     ]
    },
    {
     "name": "stdout",
     "output_type": "stream",
     "text": [
      "Participant ID: A20-131\n",
      "Stain ID: HE\n",
      "Brain region match: L24A\n"
     ]
    },
    {
     "name": "stderr",
     "output_type": "stream",
     "text": [
      " 59%|██████████████████████████████████████████████████████████████████████████████▎                                                     | 54/91 [01:10<00:41,  1.12s/it]"
     ]
    },
    {
     "name": "stdout",
     "output_type": "stream",
     "text": [
      "Participant ID: A20-131\n",
      "Stain ID: PHF-1\n",
      "Brain region match: L24A\n"
     ]
    },
    {
     "name": "stderr",
     "output_type": "stream",
     "text": [
      "ERROR:root:An exception occurred while processing file: A20-131/1005875.svs\n",
      "ERROR:root:Exception details: list index out of range (Brain Region)\n",
      " 60%|███████████████████████████████████████████████████████████████████████████████▊                                                    | 55/91 [01:11<00:43,  1.22s/it]"
     ]
    },
    {
     "name": "stdout",
     "output_type": "stream",
     "text": [
      "Participant ID: A20-131\n",
      "Stain ID: 10D5\n"
     ]
    },
    {
     "name": "stderr",
     "output_type": "stream",
     "text": [
      "ERROR:root:An exception occurred while processing file: A20-131/1005876.svs\n",
      "ERROR:root:Exception details: list index out of range (Brain Region)\n",
      " 62%|█████████████████████████████████████████████████████████████████████████████████▏                                                  | 56/91 [01:12<00:43,  1.26s/it]"
     ]
    },
    {
     "name": "stdout",
     "output_type": "stream",
     "text": [
      "Participant ID: A20-131\n",
      "Stain ID: 10D5\n"
     ]
    },
    {
     "name": "stderr",
     "output_type": "stream",
     "text": [
      "ERROR:root:An exception occurred while processing file: A20-131/1005877.svs\n",
      "ERROR:root:Exception details: list index out of range (Brain Region)\n",
      " 63%|██████████████████████████████████████████████████████████████████████████████████▋                                                 | 57/91 [01:14<00:44,  1.30s/it]"
     ]
    },
    {
     "name": "stdout",
     "output_type": "stream",
     "text": [
      "Participant ID: A20-131\n",
      "Stain ID: PHF-1\n"
     ]
    },
    {
     "name": "stderr",
     "output_type": "stream",
     "text": [
      "ERROR:root:An exception occurred while processing file: A20-131/1005878.svs\n",
      "ERROR:root:Exception details: list index out of range (Brain Region)\n",
      " 64%|████████████████████████████████████████████████████████████████████████████████████▏                                               | 58/91 [01:15<00:42,  1.30s/it]"
     ]
    },
    {
     "name": "stdout",
     "output_type": "stream",
     "text": [
      "Participant ID: A20-131\n",
      "Stain ID: PHF-1\n"
     ]
    },
    {
     "name": "stderr",
     "output_type": "stream",
     "text": [
      "ERROR:root:An exception occurred while processing file: A20-131/1005879.svs\n",
      "ERROR:root:Exception details: list index out of range (Brain Region)\n",
      " 65%|█████████████████████████████████████████████████████████████████████████████████████▌                                              | 59/91 [01:16<00:40,  1.28s/it]"
     ]
    },
    {
     "name": "stdout",
     "output_type": "stream",
     "text": [
      "Participant ID: A20-131\n",
      "Stain ID: PHF-1\n"
     ]
    },
    {
     "name": "stderr",
     "output_type": "stream",
     "text": [
      "ERROR:root:An exception occurred while processing file: A20-131/1005880.svs\n",
      "ERROR:root:Exception details: list index out of range (Brain Region)\n",
      " 66%|███████████████████████████████████████████████████████████████████████████████████████                                             | 60/91 [01:18<00:40,  1.31s/it]"
     ]
    },
    {
     "name": "stdout",
     "output_type": "stream",
     "text": [
      "Participant ID: A20-131\n",
      "Stain ID: PHF-1\n"
     ]
    },
    {
     "name": "stderr",
     "output_type": "stream",
     "text": [
      "ERROR:root:An exception occurred while processing file: A20-131/1005881.svs\n",
      "ERROR:root:Exception details: list index out of range (Brain Region)\n",
      " 67%|████████████████████████████████████████████████████████████████████████████████████████▍                                           | 61/91 [01:19<00:39,  1.31s/it]"
     ]
    },
    {
     "name": "stdout",
     "output_type": "stream",
     "text": [
      "Participant ID: A20-131\n",
      "Stain ID: TDP-43\n"
     ]
    },
    {
     "name": "stderr",
     "output_type": "stream",
     "text": [
      "ERROR:root:An exception occurred while processing file: A20-131/1005882.svs\n",
      "ERROR:root:Exception details: list index out of range (Brain Region)\n",
      " 68%|█████████████████████████████████████████████████████████████████████████████████████████▉                                          | 62/91 [01:20<00:36,  1.26s/it]"
     ]
    },
    {
     "name": "stdout",
     "output_type": "stream",
     "text": [
      "Participant ID: A20-131\n",
      "Stain ID: TDP-43\n"
     ]
    },
    {
     "name": "stderr",
     "output_type": "stream",
     "text": [
      "ERROR:root:An exception occurred while processing file: A20-131/1005883.svs\n",
      "ERROR:root:Exception details: list index out of range (Brain Region)\n",
      " 69%|███████████████████████████████████████████████████████████████████████████████████████████▍                                        | 63/91 [01:22<00:37,  1.33s/it]"
     ]
    },
    {
     "name": "stdout",
     "output_type": "stream",
     "text": [
      "Participant ID: A20-131\n",
      "Stain ID: TDP-43\n"
     ]
    },
    {
     "name": "stderr",
     "output_type": "stream",
     "text": [
      " 70%|████████████████████████████████████████████████████████████████████████████████████████████▊                                       | 64/91 [01:23<00:35,  1.32s/it]"
     ]
    },
    {
     "name": "stdout",
     "output_type": "stream",
     "text": [
      "Participant ID: A20-131\n",
      "Stain ID: 10D5\n",
      "Brain region match: L19\n"
     ]
    },
    {
     "name": "stderr",
     "output_type": "stream",
     "text": [
      " 71%|██████████████████████████████████████████████████████████████████████████████████████████████▎                                     | 65/91 [01:24<00:34,  1.34s/it]"
     ]
    },
    {
     "name": "stdout",
     "output_type": "stream",
     "text": [
      "Participant ID: A20-131\n",
      "Stain ID: HE\n",
      "Brain region match: L19\n"
     ]
    },
    {
     "name": "stderr",
     "output_type": "stream",
     "text": [
      " 73%|███████████████████████████████████████████████████████████████████████████████████████████████▋                                    | 66/91 [01:26<00:32,  1.32s/it]"
     ]
    },
    {
     "name": "stdout",
     "output_type": "stream",
     "text": [
      "Participant ID: A20-131\n",
      "Stain ID: PHF-1\n",
      "Brain region match: L19\n"
     ]
    },
    {
     "name": "stderr",
     "output_type": "stream",
     "text": [
      " 74%|█████████████████████████████████████████████████████████████████████████████████████████████████▏                                  | 67/91 [01:27<00:33,  1.40s/it]"
     ]
    },
    {
     "name": "stdout",
     "output_type": "stream",
     "text": [
      "Participant ID: A20-131\n",
      "Stain ID: TDP-43\n",
      "Brain region match: L19\n"
     ]
    },
    {
     "name": "stderr",
     "output_type": "stream",
     "text": [
      " 75%|██████████████████████████████████████████████████████████████████████████████████████████████████▋                                 | 68/91 [01:28<00:30,  1.35s/it]"
     ]
    },
    {
     "name": "stdout",
     "output_type": "stream",
     "text": [
      "Participant ID: A20-131\n",
      "Stain ID: 10D5\n",
      "Brain region match: L1\n"
     ]
    },
    {
     "name": "stderr",
     "output_type": "stream",
     "text": [
      " 76%|████████████████████████████████████████████████████████████████████████████████████████████████████                                | 69/91 [01:30<00:29,  1.34s/it]"
     ]
    },
    {
     "name": "stdout",
     "output_type": "stream",
     "text": [
      "Participant ID: A20-131\n",
      "Stain ID: HE\n",
      "Brain region match: L1\n"
     ]
    },
    {
     "name": "stderr",
     "output_type": "stream",
     "text": [
      " 77%|█████████████████████████████████████████████████████████████████████████████████████████████████████▌                              | 70/91 [01:32<00:30,  1.45s/it]"
     ]
    },
    {
     "name": "stdout",
     "output_type": "stream",
     "text": [
      "Participant ID: A20-131\n",
      "Stain ID: PHF-1\n",
      "Brain region match: L1\n"
     ]
    },
    {
     "name": "stderr",
     "output_type": "stream",
     "text": [
      " 78%|██████████████████████████████████████████████████████████████████████████████████████████████████████▉                             | 71/91 [01:33<00:27,  1.38s/it]"
     ]
    },
    {
     "name": "stdout",
     "output_type": "stream",
     "text": [
      "Participant ID: A20-131\n",
      "Stain ID: TDP-43\n",
      "Brain region match: L1\n"
     ]
    },
    {
     "name": "stderr",
     "output_type": "stream",
     "text": [
      " 79%|████████████████████████████████████████████████████████████████████████████████████████████████████████▍                           | 72/91 [01:34<00:26,  1.41s/it]"
     ]
    },
    {
     "name": "stdout",
     "output_type": "stream",
     "text": [
      "Participant ID: A20-131\n",
      "Stain ID: 10D5\n",
      "Brain region match: L21\n"
     ]
    },
    {
     "name": "stderr",
     "output_type": "stream",
     "text": [
      " 80%|█████████████████████████████████████████████████████████████████████████████████████████████████████████▉                          | 73/91 [01:35<00:23,  1.31s/it]"
     ]
    },
    {
     "name": "stdout",
     "output_type": "stream",
     "text": [
      "Participant ID: A20-131\n",
      "Stain ID: HE\n",
      "Brain region match: L21\n"
     ]
    },
    {
     "name": "stderr",
     "output_type": "stream",
     "text": [
      " 81%|███████████████████████████████████████████████████████████████████████████████████████████████████████████▎                        | 74/91 [01:37<00:22,  1.35s/it]"
     ]
    },
    {
     "name": "stdout",
     "output_type": "stream",
     "text": [
      "Participant ID: A20-131\n",
      "Stain ID: PHF-1\n",
      "Brain region match: L21\n"
     ]
    },
    {
     "name": "stderr",
     "output_type": "stream",
     "text": [
      " 82%|████████████████████████████████████████████████████████████████████████████████████████████████████████████▊                       | 75/91 [01:38<00:21,  1.34s/it]"
     ]
    },
    {
     "name": "stdout",
     "output_type": "stream",
     "text": [
      "Participant ID: A20-131\n",
      "Stain ID: TDP-43\n",
      "Brain region match: L21\n"
     ]
    },
    {
     "name": "stderr",
     "output_type": "stream",
     "text": [
      " 84%|██████████████████████████████████████████████████████████████████████████████████████████████████████████████▏                     | 76/91 [01:39<00:19,  1.30s/it]"
     ]
    },
    {
     "name": "stdout",
     "output_type": "stream",
     "text": [
      "Participant ID: A20-131\n",
      "Stain ID: 10D5\n",
      "Brain region match: L23\n"
     ]
    },
    {
     "name": "stderr",
     "output_type": "stream",
     "text": [
      " 85%|███████████████████████████████████████████████████████████████████████████████████████████████████████████████▋                    | 77/91 [01:40<00:17,  1.25s/it]"
     ]
    },
    {
     "name": "stdout",
     "output_type": "stream",
     "text": [
      "Participant ID: A20-131\n",
      "Stain ID: HE\n",
      "Brain region match: L23\n"
     ]
    },
    {
     "name": "stderr",
     "output_type": "stream",
     "text": [
      " 86%|█████████████████████████████████████████████████████████████████████████████████████████████████████████████████▏                  | 78/91 [01:42<00:15,  1.22s/it]"
     ]
    },
    {
     "name": "stdout",
     "output_type": "stream",
     "text": [
      "Participant ID: A20-131\n",
      "Stain ID: PHF-1\n",
      "Brain region match: L23\n"
     ]
    },
    {
     "name": "stderr",
     "output_type": "stream",
     "text": [
      " 87%|██████████████████████████████████████████████████████████████████████████████████████████████████████████████████▌                 | 79/91 [01:43<00:15,  1.27s/it]"
     ]
    },
    {
     "name": "stdout",
     "output_type": "stream",
     "text": [
      "Participant ID: A20-131\n",
      "Stain ID: TDP-43\n",
      "Brain region match: L23\n"
     ]
    },
    {
     "name": "stderr",
     "output_type": "stream",
     "text": [
      " 88%|████████████████████████████████████████████████████████████████████████████████████████████████████████████████████                | 80/91 [01:44<00:13,  1.27s/it]"
     ]
    },
    {
     "name": "stdout",
     "output_type": "stream",
     "text": [
      "Participant ID: A20-131\n",
      "Stain ID: 10D5\n",
      "Brain region match: L2\n"
     ]
    },
    {
     "name": "stderr",
     "output_type": "stream",
     "text": [
      " 89%|█████████████████████████████████████████████████████████████████████████████████████████████████████████████████████▍              | 81/91 [01:45<00:12,  1.21s/it]"
     ]
    },
    {
     "name": "stdout",
     "output_type": "stream",
     "text": [
      "Participant ID: A20-131\n",
      "Stain ID: HE\n",
      "Brain region match: L2\n"
     ]
    },
    {
     "name": "stderr",
     "output_type": "stream",
     "text": [
      " 90%|██████████████████████████████████████████████████████████████████████████████████████████████████████████████████████▉             | 82/91 [01:47<00:11,  1.29s/it]"
     ]
    },
    {
     "name": "stdout",
     "output_type": "stream",
     "text": [
      "Participant ID: A20-131\n",
      "Stain ID: PHF-1\n",
      "Brain region match: L2\n"
     ]
    },
    {
     "name": "stderr",
     "output_type": "stream",
     "text": [
      " 91%|████████████████████████████████████████████████████████████████████████████████████████████████████████████████████████▍           | 83/91 [01:48<00:10,  1.29s/it]"
     ]
    },
    {
     "name": "stdout",
     "output_type": "stream",
     "text": [
      "Participant ID: A20-131\n",
      "Stain ID: TDP-43\n",
      "Brain region match: L2\n"
     ]
    },
    {
     "name": "stderr",
     "output_type": "stream",
     "text": [
      " 92%|█████████████████████████████████████████████████████████████████████████████████████████████████████████████████████████▊          | 84/91 [01:49<00:09,  1.32s/it]"
     ]
    },
    {
     "name": "stdout",
     "output_type": "stream",
     "text": [
      "Participant ID: A20-131\n",
      "Stain ID: 10D5\n",
      "Brain region match: L3\n"
     ]
    },
    {
     "name": "stderr",
     "output_type": "stream",
     "text": [
      " 93%|███████████████████████████████████████████████████████████████████████████████████████████████████████████████████████████▎        | 85/91 [01:51<00:07,  1.26s/it]"
     ]
    },
    {
     "name": "stdout",
     "output_type": "stream",
     "text": [
      "Participant ID: A20-131\n",
      "Stain ID: HE\n",
      "Brain region match: L3\n"
     ]
    },
    {
     "name": "stderr",
     "output_type": "stream",
     "text": [
      " 95%|████████████████████████████████████████████████████████████████████████████████████████████████████████████████████████████▋       | 86/91 [01:52<00:06,  1.26s/it]"
     ]
    },
    {
     "name": "stdout",
     "output_type": "stream",
     "text": [
      "Participant ID: A20-131\n",
      "Stain ID: PHF-1\n",
      "Brain region match: L3\n"
     ]
    },
    {
     "name": "stderr",
     "output_type": "stream",
     "text": [
      " 96%|██████████████████████████████████████████████████████████████████████████████████████████████████████████████████████████████▏     | 87/91 [01:53<00:04,  1.24s/it]"
     ]
    },
    {
     "name": "stdout",
     "output_type": "stream",
     "text": [
      "Participant ID: A20-131\n",
      "Stain ID: TDP-43\n",
      "Brain region match: L3\n"
     ]
    },
    {
     "name": "stderr",
     "output_type": "stream",
     "text": [
      " 97%|███████████████████████████████████████████████████████████████████████████████████████████████████████████████████████████████▋    | 88/91 [01:54<00:03,  1.28s/it]"
     ]
    },
    {
     "name": "stdout",
     "output_type": "stream",
     "text": [
      "Participant ID: A20-131\n",
      "Stain ID: 10D5\n",
      "Brain region match: L4\n"
     ]
    },
    {
     "name": "stderr",
     "output_type": "stream",
     "text": [
      " 98%|█████████████████████████████████████████████████████████████████████████████████████████████████████████████████████████████████   | 89/91 [01:55<00:02,  1.20s/it]"
     ]
    },
    {
     "name": "stdout",
     "output_type": "stream",
     "text": [
      "Participant ID: A20-131\n",
      "Stain ID: HE\n",
      "Brain region match: L4\n"
     ]
    },
    {
     "name": "stderr",
     "output_type": "stream",
     "text": [
      " 99%|██████████████████████████████████████████████████████████████████████████████████████████████████████████████████████████████████▌ | 90/91 [01:57<00:01,  1.25s/it]"
     ]
    },
    {
     "name": "stdout",
     "output_type": "stream",
     "text": [
      "Participant ID: A20-131\n",
      "Stain ID: PHF-1\n",
      "Brain region match: L4\n"
     ]
    },
    {
     "name": "stderr",
     "output_type": "stream",
     "text": [
      "100%|████████████████████████████████████████████████████████████████████████████████████████████████████████████████████████████████████| 91/91 [01:58<00:00,  1.30s/it]"
     ]
    },
    {
     "name": "stdout",
     "output_type": "stream",
     "text": [
      "Participant ID: A20-131\n",
      "Stain ID: TDP-43\n",
      "Brain region match: L4\n"
     ]
    },
    {
     "name": "stderr",
     "output_type": "stream",
     "text": [
      "\n"
     ]
    }
   ],
   "source": [
    "while good == True:\n",
    "    for file in tqdm(folder):\n",
    "        slide = slideio.open_slide(file)\n",
    "        scene = slide.get_scene(0)\n",
    "        # print(scene)\n",
    "        # This part gets the image per slide\n",
    "        image_names = slide.get_aux_image_names()\n",
    "        images = []\n",
    "        for name in image_names:\n",
    "            if name == 'Label':\n",
    "                image = slide.get_aux_image_raster(name)\n",
    "                images.append(image)\n",
    "                rotated_image = np.rot90(image, k=-1) # Capture a rotated image of the label\n",
    "                result = ocr_model.ocr(rotated_image) # Process rotated image with Paddle\n",
    "                # Build a list containing all chunks identified by Paddle\n",
    "                text_list = []\n",
    "                for result_group in result:\n",
    "                    for text_region in result_group:\n",
    "                        text, confidence = text_region[1]  # Extract text and confidence\n",
    "                        # print(\"Text:\", text); print(\"Confidence:\", confidence)\n",
    "                        text_list.append(text)\n",
    "                        # Coordinates are stored in text_region[0] if needed\n",
    "                garbage = ['starfrost', 'adrc']  # Clean the result a little\n",
    "                text_list = [thing for thing in text_list if thing.lower() not in garbage]\n",
    "\n",
    "                try:\n",
    "                    # Phase 1: Gather the Participant ID:\n",
    "                    participant_pattern = r'([A-Z0-9]{3})-([A-Z0-9]{3})'\n",
    "                    participant_matches = [re.search(participant_pattern, i) for i in text_list if re.search(participant_pattern, i)]\n",
    "                    participant_id = [match[0] for match in participant_matches]\n",
    "                    participant_id = participant_id[0]; print(f\"Participant ID: {participant_id}\")\n",
    "                    pass\n",
    "                except Exception as e:\n",
    "                    logging.error(f\"An exception occurred while processing file: {file}\")\n",
    "                    logging.error(f\"Exception details: {e} Participant ID\")\n",
    "                    good = False\n",
    "                    move_to_failed_folder(file, failed_folder); failed_count += 1\n",
    "                    continue\n",
    "\n",
    "                try:\n",
    "                    # Phase 2: Gather the Stain ID:\n",
    "                    predefined_choices = ['LB509', 'HE', 'PHF-1', 'TDP-43', '10D5'] # Stain Choices\n",
    "                    stain_id = None\n",
    "                    best_similarity = 0\n",
    "                    for i in text_list:\n",
    "                        for choice in predefined_choices:\n",
    "                            similarity = fuzz.ratio(i, choice)  # Calculate Lebenshtein distance\n",
    "                            if similarity > best_similarity:\n",
    "                                best_similarity = similarity\n",
    "                                stain_id = choice\n",
    "                    print(f\"Stain ID: {stain_id}\")\n",
    "                    pass\n",
    "                except Exception as e:\n",
    "                    logging.error(f\"An exception occurred while processing file: {file}\")\n",
    "                    logging.error(f\"Exception details: {e} (Stain ID)\")\n",
    "                    good = False\n",
    "                    move_to_failed_folder(file, failed_folder); failed_count += 1\n",
    "                    continue\n",
    "\n",
    "                try:\n",
    "                    # Phase 3: Gather the Brain Region ID:\n",
    "                    brain_region_pattern = r'\\bL\\d+[A-Z]?\\b'\n",
    "                    brain_region_matchs = [re.search(brain_region_pattern, i) for i in text_list if re.search(brain_region_pattern, i)]\n",
    "                    brain_region = [match[0] for match in brain_region_matchs]\n",
    "                    brain_region = brain_region[0]; print(f\"Brain region match: {brain_region}\")\n",
    "                    pass\n",
    "                except Exception as e:\n",
    "                    logging.error(f\"An exception occurred while processing file: {file}\")\n",
    "                    logging.error(f\"Exception details: {e} (Brain Region)\")\n",
    "                    good = False\n",
    "                    move_to_failed_folder(file, failed_folder); failed_count += 1\n",
    "                    continue\n",
    "\n",
    "                # Phase 4 Print Results:\n",
    "                if good == True:\n",
    "                    label_count += 1\n",
    "                    # Write the rows to the CSV file\n",
    "                    with open(f'{folder_name}.csv', mode='a', newline='') as csv_file:\n",
    "                        csv_writer = csv.writer(csv_file)\n",
    "                        label = f\"{participant_id}_{brain_region}_{stain_id}\"\n",
    "                        csv_writer.writerow([participant_id, stain_id, brain_region, label])\n",
    "                    # Phase 5 Rename Each File:\n",
    "                    new_name = os.path.join(os.path.dirname(file), label + \".svs\")\n",
    "                    os.rename(file, new_name)\n",
    "\n",
    "# Log the summary\n",
    "logging.info(f\"Processed {label_count} files. Moved {failed_count} files to the 'failed' folder.\")\n"
   ]
  },
  {
   "cell_type": "code",
   "execution_count": null,
   "id": "526b78e6-3ae8-4583-93c1-82bc1e718c64",
   "metadata": {},
   "outputs": [],
   "source": []
  },
  {
   "cell_type": "code",
   "execution_count": null,
   "id": "a04bb678-448a-4c59-9400-bf3fb776d29a",
   "metadata": {},
   "outputs": [],
   "source": []
  },
  {
   "cell_type": "code",
   "execution_count": null,
   "id": "2aeb33c9-8d18-4802-9eb1-d5bf685bcc28",
   "metadata": {},
   "outputs": [],
   "source": []
  }
 ],
 "metadata": {
  "kernelspec": {
   "display_name": "Python 3 (ipykernel)",
   "language": "python",
   "name": "python3"
  },
  "language_info": {
   "codemirror_mode": {
    "name": "ipython",
    "version": 3
   },
   "file_extension": ".py",
   "mimetype": "text/x-python",
   "name": "python",
   "nbconvert_exporter": "python",
   "pygments_lexer": "ipython3",
   "version": "3.7.16"
  }
 },
 "nbformat": 4,
 "nbformat_minor": 5
}
