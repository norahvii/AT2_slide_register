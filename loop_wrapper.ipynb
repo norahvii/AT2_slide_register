{
 "cells": [
  {
   "cell_type": "code",
   "execution_count": 1,
   "id": "7f7c1fde-b410-4058-a59e-0b15f267d2ff",
   "metadata": {
    "tags": []
   },
   "outputs": [],
   "source": [
    "from paddleocr import PaddleOCR, draw_ocr\n",
    "import os,glob,csv,math,json,re,math,cv2,slideio\n",
    "import numpy as np\n",
    "import matplotlib.pyplot as plt\n",
    "from matplotlib.font_manager import FontProperties\n",
    "from IPython.display import display, HTML\n",
    "from fuzzywuzzy import fuzz\n",
    "from utils import show_images\n",
    "from tqdm import tqdm"
   ]
  },
  {
   "cell_type": "code",
   "execution_count": 2,
   "id": "10a76668-734f-445f-abec-54c4ae599162",
   "metadata": {},
   "outputs": [],
   "source": [
    "# Setup model\n",
    "ocr_model = PaddleOCR(lang='en',use_angle_cls = False,show_log=False)"
   ]
  },
  {
   "cell_type": "code",
   "execution_count": 3,
   "id": "84dfc049-8b72-415e-a0da-2e8643fe2a4b",
   "metadata": {
    "tags": []
   },
   "outputs": [],
   "source": [
    "import logging\n",
    "from ppocr.utils.logging import get_logger as ppocr_get_logger\n",
    "ppocr_get_logger().setLevel(logging.ERROR)"
   ]
  },
  {
   "cell_type": "code",
   "execution_count": 4,
   "id": "ee5f2c1d-b6f9-4209-8784-ed63d740a156",
   "metadata": {
    "tags": []
   },
   "outputs": [
    {
     "name": "stdout",
     "output_type": "stream",
     "text": [
      "72 svs files identified.\n"
     ]
    }
   ],
   "source": [
    "# Open our folder and list the number of files inside\n",
    "folder_name,type = 'A20-169','svs' # Specify the folder name (first param) and file type (second param)\n",
    "folder = glob.glob(f\"{folder_name}/*.{type}\")\n",
    "print(f\"{len(folder)} {type} files identified.\")"
   ]
  },
  {
   "cell_type": "code",
   "execution_count": 5,
   "id": "43d20918-6310-47d1-8834-b8b17e883839",
   "metadata": {
    "tags": []
   },
   "outputs": [],
   "source": [
    "columns = ['participant_id', 'stain_id', 'brain_region','label']\n",
    "csv_filename = f\"{folder_name}.csv\"  # Change this to your desired file name\n",
    "\n",
    "with open(csv_filename, 'w', newline='') as csvfile:\n",
    "    csv_writer = csv.writer(csvfile)\n",
    "    csv_writer.writerow(columns)"
   ]
  },
  {
   "cell_type": "code",
   "execution_count": 6,
   "id": "aef22776-535d-4f63-9346-ed965ee54fc6",
   "metadata": {
    "tags": []
   },
   "outputs": [
    {
     "name": "stderr",
     "output_type": "stream",
     "text": [
      "  1%|█▎                                                                                              | 1/72 [00:02<02:23,  2.02s/it]"
     ]
    },
    {
     "name": "stdout",
     "output_type": "stream",
     "text": [
      "Participant ID: A20-169\n",
      "Stain ID: PHF-1\n",
      "Brain region match: L3\n"
     ]
    },
    {
     "name": "stderr",
     "output_type": "stream",
     "text": [
      "  3%|██▋                                                                                             | 2/72 [00:03<01:46,  1.52s/it]"
     ]
    },
    {
     "name": "stdout",
     "output_type": "stream",
     "text": [
      "Participant ID: A20-169\n",
      "Stain ID: LB509\n",
      "Brain region match: L3\n"
     ]
    },
    {
     "name": "stderr",
     "output_type": "stream",
     "text": [
      "  4%|████                                                                                            | 3/72 [00:04<01:46,  1.54s/it]"
     ]
    },
    {
     "name": "stdout",
     "output_type": "stream",
     "text": [
      "Participant ID: A20-169\n",
      "Stain ID: TDP-43\n",
      "Brain region match: L3\n"
     ]
    },
    {
     "name": "stderr",
     "output_type": "stream",
     "text": [
      "  6%|█████▎                                                                                          | 4/72 [00:05<01:32,  1.36s/it]"
     ]
    },
    {
     "name": "stdout",
     "output_type": "stream",
     "text": [
      "Participant ID: A20-169\n",
      "Stain ID: HE\n",
      "Brain region match: L4\n"
     ]
    },
    {
     "name": "stderr",
     "output_type": "stream",
     "text": [
      "  7%|██████▋                                                                                         | 5/72 [00:07<01:27,  1.31s/it]"
     ]
    },
    {
     "name": "stdout",
     "output_type": "stream",
     "text": [
      "Participant ID: A20-169\n",
      "Stain ID: 10D5\n",
      "Brain region match: L4\n"
     ]
    },
    {
     "name": "stderr",
     "output_type": "stream",
     "text": [
      "  8%|████████                                                                                        | 6/72 [00:08<01:28,  1.34s/it]"
     ]
    },
    {
     "name": "stdout",
     "output_type": "stream",
     "text": [
      "Participant ID: A20-169\n",
      "Stain ID: PHF-1\n",
      "Brain region match: L4\n"
     ]
    },
    {
     "name": "stderr",
     "output_type": "stream",
     "text": [
      " 10%|█████████▎                                                                                      | 7/72 [00:09<01:23,  1.28s/it]"
     ]
    },
    {
     "name": "stdout",
     "output_type": "stream",
     "text": [
      "Participant ID: A20-169\n",
      "Stain ID: LB509\n",
      "Brain region match: L4\n"
     ]
    },
    {
     "name": "stderr",
     "output_type": "stream",
     "text": [
      " 11%|██████████▋                                                                                     | 8/72 [00:10<01:21,  1.27s/it]"
     ]
    },
    {
     "name": "stdout",
     "output_type": "stream",
     "text": [
      "Participant ID: A20-169\n",
      "Stain ID: TDP-43\n",
      "Brain region match: L4\n"
     ]
    },
    {
     "name": "stderr",
     "output_type": "stream",
     "text": [
      " 12%|████████████                                                                                    | 9/72 [00:11<01:13,  1.17s/it]"
     ]
    },
    {
     "name": "stdout",
     "output_type": "stream",
     "text": [
      "Participant ID: A20-169\n",
      "Stain ID: HE\n",
      "Brain region match: L23\n"
     ]
    },
    {
     "name": "stderr",
     "output_type": "stream",
     "text": [
      " 14%|█████████████▏                                                                                 | 10/72 [00:12<01:12,  1.17s/it]"
     ]
    },
    {
     "name": "stdout",
     "output_type": "stream",
     "text": [
      "Participant ID: A20-169\n",
      "Stain ID: 10D5\n",
      "Brain region match: L23\n"
     ]
    },
    {
     "name": "stderr",
     "output_type": "stream",
     "text": [
      " 15%|██████████████▌                                                                                | 11/72 [00:14<01:12,  1.18s/it]"
     ]
    },
    {
     "name": "stdout",
     "output_type": "stream",
     "text": [
      "Participant ID: A20-169\n",
      "Stain ID: PHF-1\n",
      "Brain region match: L23\n"
     ]
    },
    {
     "name": "stderr",
     "output_type": "stream",
     "text": [
      " 17%|███████████████▊                                                                               | 12/72 [00:15<01:09,  1.16s/it]"
     ]
    },
    {
     "name": "stdout",
     "output_type": "stream",
     "text": [
      "Participant ID: A20-169\n",
      "Stain ID: LB509\n",
      "Brain region match: L23\n"
     ]
    },
    {
     "name": "stderr",
     "output_type": "stream",
     "text": [
      " 18%|█████████████████▏                                                                             | 13/72 [00:16<01:13,  1.25s/it]"
     ]
    },
    {
     "name": "stdout",
     "output_type": "stream",
     "text": [
      "Participant ID: A20-169\n",
      "Stain ID: TDP-43\n",
      "Brain region match: L23\n"
     ]
    },
    {
     "name": "stderr",
     "output_type": "stream",
     "text": [
      " 19%|██████████████████▍                                                                            | 14/72 [00:17<01:10,  1.21s/it]"
     ]
    },
    {
     "name": "stdout",
     "output_type": "stream",
     "text": [
      "Participant ID: A20-169\n",
      "Stain ID: HE\n",
      "Brain region match: L5\n"
     ]
    },
    {
     "name": "stderr",
     "output_type": "stream",
     "text": [
      " 21%|███████████████████▊                                                                           | 15/72 [00:19<01:15,  1.32s/it]"
     ]
    },
    {
     "name": "stdout",
     "output_type": "stream",
     "text": [
      "Participant ID: A20-169\n",
      "Stain ID: 10D5\n",
      "Brain region match: L5\n"
     ]
    },
    {
     "name": "stderr",
     "output_type": "stream",
     "text": [
      " 22%|█████████████████████                                                                          | 16/72 [00:20<01:15,  1.35s/it]"
     ]
    },
    {
     "name": "stdout",
     "output_type": "stream",
     "text": [
      "Participant ID: A20-169\n",
      "Stain ID: PHF-1\n",
      "Brain region match: L5\n"
     ]
    },
    {
     "name": "stderr",
     "output_type": "stream",
     "text": [
      " 24%|██████████████████████▍                                                                        | 17/72 [00:22<01:13,  1.34s/it]"
     ]
    },
    {
     "name": "stdout",
     "output_type": "stream",
     "text": [
      "Participant ID: A20-169\n",
      "Stain ID: LB509\n",
      "Brain region match: L5\n"
     ]
    },
    {
     "name": "stderr",
     "output_type": "stream",
     "text": [
      " 25%|███████████████████████▊                                                                       | 18/72 [00:23<01:12,  1.34s/it]"
     ]
    },
    {
     "name": "stdout",
     "output_type": "stream",
     "text": [
      "Participant ID: A20-169\n",
      "Stain ID: TDP-43\n",
      "Brain region match: L5\n"
     ]
    },
    {
     "name": "stderr",
     "output_type": "stream",
     "text": [
      " 26%|█████████████████████████                                                                      | 19/72 [00:24<01:06,  1.26s/it]"
     ]
    },
    {
     "name": "stdout",
     "output_type": "stream",
     "text": [
      "Participant ID: A20-169\n",
      "Stain ID: HE\n",
      "Brain region match: L6\n"
     ]
    },
    {
     "name": "stderr",
     "output_type": "stream",
     "text": [
      " 28%|██████████████████████████▍                                                                    | 20/72 [00:25<01:03,  1.21s/it]"
     ]
    },
    {
     "name": "stdout",
     "output_type": "stream",
     "text": [
      "Participant ID: A20-169\n",
      "Stain ID: 10D5\n",
      "Brain region match: L6\n"
     ]
    },
    {
     "name": "stderr",
     "output_type": "stream",
     "text": [
      " 29%|███████████████████████████▋                                                                   | 21/72 [00:26<01:01,  1.21s/it]"
     ]
    },
    {
     "name": "stdout",
     "output_type": "stream",
     "text": [
      "Participant ID: A20-169\n",
      "Stain ID: PHF-1\n",
      "Brain region match: L6\n"
     ]
    },
    {
     "name": "stderr",
     "output_type": "stream",
     "text": [
      " 31%|█████████████████████████████                                                                  | 22/72 [00:28<00:59,  1.20s/it]"
     ]
    },
    {
     "name": "stdout",
     "output_type": "stream",
     "text": [
      "Participant ID: A20-169\n",
      "Stain ID: LB509\n",
      "Brain region match: L6\n"
     ]
    },
    {
     "name": "stderr",
     "output_type": "stream",
     "text": [
      " 32%|██████████████████████████████▎                                                                | 23/72 [00:29<00:57,  1.18s/it]"
     ]
    },
    {
     "name": "stdout",
     "output_type": "stream",
     "text": [
      "Participant ID: A20-169\n",
      "Stain ID: TDP-43\n",
      "Brain region match: L6\n"
     ]
    },
    {
     "name": "stderr",
     "output_type": "stream",
     "text": [
      " 33%|███████████████████████████████▋                                                               | 24/72 [00:30<00:55,  1.15s/it]"
     ]
    },
    {
     "name": "stdout",
     "output_type": "stream",
     "text": [
      "Participant ID: A20-169\n",
      "Stain ID: HE\n",
      "Brain region match: L17\n"
     ]
    },
    {
     "name": "stderr",
     "output_type": "stream",
     "text": [
      " 35%|████████████████████████████████▉                                                              | 25/72 [00:31<00:54,  1.15s/it]"
     ]
    },
    {
     "name": "stdout",
     "output_type": "stream",
     "text": [
      "Participant ID: A20-169\n",
      "Stain ID: 10D5\n",
      "Brain region match: L17\n"
     ]
    },
    {
     "name": "stderr",
     "output_type": "stream",
     "text": [
      " 36%|██████████████████████████████████▎                                                            | 26/72 [00:32<00:54,  1.18s/it]"
     ]
    },
    {
     "name": "stdout",
     "output_type": "stream",
     "text": [
      "Participant ID: A20-169\n",
      "Stain ID: PHF-1\n",
      "Brain region match: L17\n"
     ]
    },
    {
     "name": "stderr",
     "output_type": "stream",
     "text": [
      " 38%|███████████████████████████████████▋                                                           | 27/72 [00:34<00:57,  1.27s/it]"
     ]
    },
    {
     "name": "stdout",
     "output_type": "stream",
     "text": [
      "Participant ID: A20-169\n",
      "Stain ID: LB509\n",
      "Brain region match: L17\n"
     ]
    },
    {
     "name": "stderr",
     "output_type": "stream",
     "text": [
      " 39%|████████████████████████████████████▉                                                          | 28/72 [00:35<00:55,  1.25s/it]"
     ]
    },
    {
     "name": "stdout",
     "output_type": "stream",
     "text": [
      "Participant ID: A20-169\n",
      "Stain ID: TDP-43\n",
      "Brain region match: L17\n"
     ]
    },
    {
     "name": "stderr",
     "output_type": "stream",
     "text": [
      " 40%|██████████████████████████████████████▎                                                        | 29/72 [00:36<00:53,  1.25s/it]"
     ]
    },
    {
     "name": "stdout",
     "output_type": "stream",
     "text": [
      "Participant ID: A20-169\n",
      "Stain ID: HE\n",
      "Brain region match: L8\n"
     ]
    },
    {
     "name": "stderr",
     "output_type": "stream",
     "text": [
      " 42%|███████████████████████████████████████▌                                                       | 30/72 [00:37<00:52,  1.24s/it]"
     ]
    },
    {
     "name": "stdout",
     "output_type": "stream",
     "text": [
      "Participant ID: A20-169\n",
      "Stain ID: 10D5\n",
      "Brain region match: L8\n"
     ]
    },
    {
     "name": "stderr",
     "output_type": "stream",
     "text": [
      " 43%|████████████████████████████████████████▉                                                      | 31/72 [00:39<00:57,  1.41s/it]"
     ]
    },
    {
     "name": "stdout",
     "output_type": "stream",
     "text": [
      "Participant ID: A20-169\n",
      "Stain ID: PHF-1\n",
      "Brain region match: L8\n"
     ]
    },
    {
     "name": "stderr",
     "output_type": "stream",
     "text": [
      " 44%|██████████████████████████████████████████▏                                                    | 32/72 [00:40<00:53,  1.33s/it]"
     ]
    },
    {
     "name": "stdout",
     "output_type": "stream",
     "text": [
      "Participant ID: A20-169\n",
      "Stain ID: LB509\n",
      "Brain region match: L8\n"
     ]
    },
    {
     "name": "stderr",
     "output_type": "stream",
     "text": [
      " 46%|███████████████████████████████████████████▌                                                   | 33/72 [00:42<00:50,  1.29s/it]"
     ]
    },
    {
     "name": "stdout",
     "output_type": "stream",
     "text": [
      "Participant ID: A20-169\n",
      "Stain ID: TDP-43\n",
      "Brain region match: L8\n"
     ]
    },
    {
     "name": "stderr",
     "output_type": "stream",
     "text": [
      " 47%|████████████████████████████████████████████▊                                                  | 34/72 [00:42<00:44,  1.16s/it]"
     ]
    },
    {
     "name": "stdout",
     "output_type": "stream",
     "text": [
      "Participant ID: A20-169\n",
      "Stain ID: HE\n",
      "Brain region match: L9\n"
     ]
    },
    {
     "name": "stderr",
     "output_type": "stream",
     "text": [
      " 49%|██████████████████████████████████████████████▏                                                | 35/72 [00:44<00:44,  1.21s/it]"
     ]
    },
    {
     "name": "stdout",
     "output_type": "stream",
     "text": [
      "Participant ID: A20-169\n",
      "Stain ID: 10D5\n",
      "Brain region match: L9\n"
     ]
    },
    {
     "name": "stderr",
     "output_type": "stream",
     "text": [
      " 50%|███████████████████████████████████████████████▌                                               | 36/72 [00:45<00:42,  1.18s/it]"
     ]
    },
    {
     "name": "stdout",
     "output_type": "stream",
     "text": [
      "Participant ID: A20-169\n",
      "Stain ID: PHF-1\n",
      "Brain region match: L9\n"
     ]
    },
    {
     "name": "stderr",
     "output_type": "stream",
     "text": [
      " 51%|████████████████████████████████████████████████▊                                              | 37/72 [00:46<00:40,  1.16s/it]"
     ]
    },
    {
     "name": "stdout",
     "output_type": "stream",
     "text": [
      "Participant ID: A20-169\n",
      "Stain ID: LB509\n",
      "Brain region match: L9\n"
     ]
    },
    {
     "name": "stderr",
     "output_type": "stream",
     "text": [
      " 53%|██████████████████████████████████████████████████▏                                            | 38/72 [00:47<00:39,  1.16s/it]"
     ]
    },
    {
     "name": "stdout",
     "output_type": "stream",
     "text": [
      "Participant ID: A20-169\n",
      "Stain ID: TDP-43\n",
      "Brain region match: L9\n"
     ]
    },
    {
     "name": "stderr",
     "output_type": "stream",
     "text": [
      " 54%|███████████████████████████████████████████████████▍                                           | 39/72 [00:48<00:35,  1.09s/it]"
     ]
    },
    {
     "name": "stdout",
     "output_type": "stream",
     "text": [
      "Participant ID: A20-169\n",
      "Stain ID: HE\n",
      "Brain region match: L11\n"
     ]
    },
    {
     "name": "stderr",
     "output_type": "stream",
     "text": [
      " 56%|████████████████████████████████████████████████████▊                                          | 40/72 [00:49<00:36,  1.13s/it]"
     ]
    },
    {
     "name": "stdout",
     "output_type": "stream",
     "text": [
      "Participant ID: A20-169\n",
      "Stain ID: 10D5\n",
      "Brain region match: L11\n"
     ]
    },
    {
     "name": "stderr",
     "output_type": "stream",
     "text": [
      " 57%|██████████████████████████████████████████████████████                                         | 41/72 [00:50<00:35,  1.15s/it]"
     ]
    },
    {
     "name": "stdout",
     "output_type": "stream",
     "text": [
      "Participant ID: A20-169\n",
      "Stain ID: PHF-1\n",
      "Brain region match: L11\n"
     ]
    },
    {
     "name": "stderr",
     "output_type": "stream",
     "text": [
      " 58%|███████████████████████████████████████████████████████▍                                       | 42/72 [00:52<00:34,  1.14s/it]"
     ]
    },
    {
     "name": "stdout",
     "output_type": "stream",
     "text": [
      "Participant ID: A20-169\n",
      "Stain ID: LB509\n",
      "Brain region match: L11\n"
     ]
    },
    {
     "name": "stderr",
     "output_type": "stream",
     "text": [
      " 60%|████████████████████████████████████████████████████████▋                                      | 43/72 [00:53<00:33,  1.16s/it]"
     ]
    },
    {
     "name": "stdout",
     "output_type": "stream",
     "text": [
      "Participant ID: A20-169\n",
      "Stain ID: TDP-43\n",
      "Brain region match: L11\n"
     ]
    },
    {
     "name": "stderr",
     "output_type": "stream",
     "text": [
      " 61%|██████████████████████████████████████████████████████████                                     | 44/72 [00:54<00:32,  1.17s/it]"
     ]
    },
    {
     "name": "stdout",
     "output_type": "stream",
     "text": [
      "Participant ID: A20-169\n",
      "Stain ID: HE\n",
      "Brain region match: L12\n"
     ]
    },
    {
     "name": "stderr",
     "output_type": "stream",
     "text": [
      " 62%|███████████████████████████████████████████████████████████▍                                   | 45/72 [00:55<00:31,  1.17s/it]"
     ]
    },
    {
     "name": "stdout",
     "output_type": "stream",
     "text": [
      "Participant ID: A20-169\n",
      "Stain ID: 10D5\n",
      "Brain region match: L12\n"
     ]
    },
    {
     "name": "stderr",
     "output_type": "stream",
     "text": [
      " 64%|████████████████████████████████████████████████████████████▋                                  | 46/72 [00:56<00:30,  1.17s/it]"
     ]
    },
    {
     "name": "stdout",
     "output_type": "stream",
     "text": [
      "Participant ID: A20-169\n",
      "Stain ID: PHF-1\n",
      "Brain region match: L12\n"
     ]
    },
    {
     "name": "stderr",
     "output_type": "stream",
     "text": [
      " 65%|██████████████████████████████████████████████████████████████                                 | 47/72 [00:57<00:29,  1.16s/it]"
     ]
    },
    {
     "name": "stdout",
     "output_type": "stream",
     "text": [
      "Participant ID: A20-169\n",
      "Stain ID: LB509\n",
      "Brain region match: L12\n"
     ]
    },
    {
     "name": "stderr",
     "output_type": "stream",
     "text": [
      " 67%|███████████████████████████████████████████████████████████████▎                               | 48/72 [00:59<00:29,  1.23s/it]"
     ]
    },
    {
     "name": "stdout",
     "output_type": "stream",
     "text": [
      "Participant ID: A20-169\n",
      "Stain ID: TDP-43\n",
      "Brain region match: L12\n"
     ]
    },
    {
     "name": "stderr",
     "output_type": "stream",
     "text": [
      " 67%|███████████████████████████████████████████████████████████████▎                               | 48/72 [01:00<00:30,  1.26s/it]"
     ]
    },
    {
     "name": "stdout",
     "output_type": "stream",
     "text": [
      "Participant ID: A20-169\n",
      "Stain ID: HE\n"
     ]
    },
    {
     "name": "stderr",
     "output_type": "stream",
     "text": [
      "\n"
     ]
    },
    {
     "ename": "IndexError",
     "evalue": "list index out of range",
     "output_type": "error",
     "traceback": [
      "\u001b[0;31m---------------------------------------------------------------------------\u001b[0m",
      "\u001b[0;31mIndexError\u001b[0m                                Traceback (most recent call last)",
      "\u001b[0;32m/tmp/ipykernel_15807/3432410155.py\u001b[0m in \u001b[0;36m<module>\u001b[0;34m\u001b[0m\n\u001b[1;32m     47\u001b[0m             \u001b[0mbrain_region_matchs\u001b[0m \u001b[0;34m=\u001b[0m \u001b[0;34m[\u001b[0m\u001b[0mre\u001b[0m\u001b[0;34m.\u001b[0m\u001b[0msearch\u001b[0m\u001b[0;34m(\u001b[0m\u001b[0mbrain_region_pattern\u001b[0m\u001b[0;34m,\u001b[0m \u001b[0mi\u001b[0m\u001b[0;34m)\u001b[0m \u001b[0;32mfor\u001b[0m \u001b[0mi\u001b[0m \u001b[0;32min\u001b[0m \u001b[0mtext_list\u001b[0m \u001b[0;32mif\u001b[0m \u001b[0mre\u001b[0m\u001b[0;34m.\u001b[0m\u001b[0msearch\u001b[0m\u001b[0;34m(\u001b[0m\u001b[0mbrain_region_pattern\u001b[0m\u001b[0;34m,\u001b[0m \u001b[0mi\u001b[0m\u001b[0;34m)\u001b[0m\u001b[0;34m]\u001b[0m\u001b[0;34m\u001b[0m\u001b[0;34m\u001b[0m\u001b[0m\n\u001b[1;32m     48\u001b[0m             \u001b[0mbrain_region\u001b[0m \u001b[0;34m=\u001b[0m \u001b[0;34m[\u001b[0m\u001b[0mmatch\u001b[0m\u001b[0;34m[\u001b[0m\u001b[0;36m0\u001b[0m\u001b[0;34m]\u001b[0m \u001b[0;32mfor\u001b[0m \u001b[0mmatch\u001b[0m \u001b[0;32min\u001b[0m \u001b[0mbrain_region_matchs\u001b[0m\u001b[0;34m]\u001b[0m\u001b[0;34m\u001b[0m\u001b[0;34m\u001b[0m\u001b[0m\n\u001b[0;32m---> 49\u001b[0;31m             \u001b[0mbrain_region\u001b[0m \u001b[0;34m=\u001b[0m \u001b[0mbrain_region\u001b[0m\u001b[0;34m[\u001b[0m\u001b[0;36m0\u001b[0m\u001b[0;34m]\u001b[0m\u001b[0;34m;\u001b[0m \u001b[0mprint\u001b[0m\u001b[0;34m(\u001b[0m\u001b[0;34mf\"Brain region match: {brain_region}\"\u001b[0m\u001b[0;34m)\u001b[0m\u001b[0;34m\u001b[0m\u001b[0;34m\u001b[0m\u001b[0m\n\u001b[0m\u001b[1;32m     50\u001b[0m             \u001b[0;31m# Phase 3.5 (cleaning):\u001b[0m\u001b[0;34m\u001b[0m\u001b[0;34m\u001b[0m\u001b[0;34m\u001b[0m\u001b[0m\n\u001b[1;32m     51\u001b[0m             \u001b[0mprune\u001b[0m \u001b[0;34m=\u001b[0m \u001b[0;34m[\u001b[0m\u001b[0mitem\u001b[0m\u001b[0;34m.\u001b[0m\u001b[0mreplace\u001b[0m\u001b[0;34m(\u001b[0m\u001b[0mbrain_region\u001b[0m\u001b[0;34m[\u001b[0m\u001b[0;36m0\u001b[0m\u001b[0;34m]\u001b[0m\u001b[0;34m,\u001b[0m \u001b[0;34m\"\"\u001b[0m\u001b[0;34m)\u001b[0m\u001b[0;34m.\u001b[0m\u001b[0mstrip\u001b[0m\u001b[0;34m(\u001b[0m\u001b[0;34m)\u001b[0m \u001b[0;32mfor\u001b[0m \u001b[0mitem\u001b[0m \u001b[0;32min\u001b[0m \u001b[0mtext_list\u001b[0m\u001b[0;34m]\u001b[0m\u001b[0;34m\u001b[0m\u001b[0;34m\u001b[0m\u001b[0m\n",
      "\u001b[0;31mIndexError\u001b[0m: list index out of range"
     ]
    }
   ],
   "source": [
    "label_count = 0\n",
    "\n",
    "for file in tqdm(folder):\n",
    "    slide = slideio.open_slide(file)\n",
    "    scene = slide.get_scene(0)\n",
    "    # print(scene)\n",
    "    # This part gets the image per slide\n",
    "    image_names = slide.get_aux_image_names()\n",
    "    images = []\n",
    "    for name in image_names:\n",
    "        if name == 'Label':\n",
    "            image = slide.get_aux_image_raster(name)\n",
    "            images.append(image)  \n",
    "            rotated_image = np.rot90(image, k=-1) # Capture a rotated image of the label\n",
    "            result = ocr_model.ocr(rotated_image) # Process rotated image with Paddle\n",
    "            # Build a list containing all chunks identified by Paddle \n",
    "            text_list = []\n",
    "            for result_group in result:\n",
    "                for text_region in result_group:\n",
    "                    text, confidence = text_region[1]  # Extract text and confidence\n",
    "                    # print(\"Text:\", text); print(\"Confidence:\", confidence)\n",
    "                    text_list.append(text)\n",
    "                    # Coordinates are stored in text_region[0] if needed\n",
    "            garbage = ['starfrost', 'adrc']  # Clean the result a little\n",
    "            text_list = [thing for thing in text_list if thing.lower() not in garbage]\n",
    "            # Phase 1: Gather the Participant ID:\n",
    "            participant_pattern = r'([A-Z0-9]{3})-([A-Z0-9]{3})'\n",
    "            participant_matches = [re.search(participant_pattern, i) for i in text_list if re.search(participant_pattern, i)]\n",
    "            participant_id = [match[0] for match in participant_matches]\n",
    "            participant_id = participant_id[0]; print(f\"Participant ID: {participant_id}\")\n",
    "            # Phase 2: Gather the Stain ID:\n",
    "            predefined_choices = ['LB509', 'HE', 'PHF-1', 'TDP-43', '10D5'] # Stain Choices\n",
    "            stain_id = None\n",
    "            best_similarity = 0\n",
    "            for i in text_list:\n",
    "                for choice in predefined_choices:\n",
    "                    similarity = fuzz.ratio(i, choice)  # Calculate Lebenshtein distance\n",
    "                    if similarity > best_similarity:\n",
    "                        best_similarity = similarity\n",
    "                        stain_id = choice\n",
    "            print(f\"Stain ID: {stain_id}\")\n",
    "            # Phase 2.5 (cleaning):\n",
    "            prune = [item for item in text_list if item.lower() not in (stain_id.lower(), participant_id[0].lower())]\n",
    "            text_list = prune # Clean the result a bit more 2 of 3\n",
    "            # Phase 3: Gather the Brain Region ID:\n",
    "            brain_region_pattern = r'\\bL\\d+[A-Z]?\\b'\n",
    "            brain_region_matchs = [re.search(brain_region_pattern, i) for i in text_list if re.search(brain_region_pattern, i)]\n",
    "            brain_region = [match[0] for match in brain_region_matchs]\n",
    "            brain_region = brain_region[0]; print(f\"Brain region match: {brain_region}\")\n",
    "            # Phase 3.5 (cleaning):\n",
    "            prune = [item.replace(brain_region[0], \"\").strip() for item in text_list]\n",
    "            text_list = prune  # Clean the result a bit more 3 of 3\n",
    "            # Phase 4 Print Results: \n",
    "            label_count += 1\n",
    "            # Write the rows to the CSV file\n",
    "            with open(f'{folder_name}.csv', mode='a', newline='') as csv_file:\n",
    "                csv_writer = csv.writer(csv_file)\n",
    "                label = f\"{participant_id}_{brain_region}_{stain_id}\"\n",
    "                csv_writer.writerow([participant_id, stain_id, brain_region, label])\n",
    "            # Phase 5 Rename Each File:\n",
    "            new_name = os.path.join(os.path.dirname(file), label + \".svs\")\n",
    "            os.rename(file, new_name)"
   ]
  }
 ],
 "metadata": {
  "kernelspec": {
   "display_name": "Python 3 (ipykernel)",
   "language": "python",
   "name": "python3"
  },
  "language_info": {
   "codemirror_mode": {
    "name": "ipython",
    "version": 3
   },
   "file_extension": ".py",
   "mimetype": "text/x-python",
   "name": "python",
   "nbconvert_exporter": "python",
   "pygments_lexer": "ipython3",
   "version": "3.7.16"
  }
 },
 "nbformat": 4,
 "nbformat_minor": 5
}
