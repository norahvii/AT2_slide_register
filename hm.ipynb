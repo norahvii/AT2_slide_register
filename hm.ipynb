{
 "cells": [
  {
   "cell_type": "code",
   "execution_count": 1,
   "id": "9b6b2d9d-df90-44e1-af09-26d27934a5fc",
   "metadata": {
    "tags": []
   },
   "outputs": [],
   "source": [
    "from paddleocr import PaddleOCR, draw_ocr\n",
    "import os,glob,csv,math,json,re,math,cv2,slideio,logging\n",
    "import numpy as np\n",
    "import matplotlib.pyplot as plt\n",
    "from matplotlib.font_manager import FontProperties\n",
    "from IPython.display import display, HTML\n",
    "from fuzzywuzzy import fuzz\n",
    "from tqdm import tqdm"
   ]
  },
  {
   "cell_type": "code",
   "execution_count": 2,
   "id": "b47e39f2-59b7-401e-85b1-5c54f8844f77",
   "metadata": {
    "tags": []
   },
   "outputs": [
    {
     "name": "stdout",
     "output_type": "stream",
     "text": [
      "82 svs files identified.\n"
     ]
    }
   ],
   "source": [
    "# Setup model\n",
    "ocr_model = PaddleOCR(lang='en',use_angle_cls = False,show_log=False)\n",
    "\n",
    "import logging\n",
    "from ppocr.utils.logging import get_logger as ppocr_get_logger\n",
    "ppocr_get_logger().setLevel(logging.ERROR)\n",
    "\n",
    "# Open our folder and list the number of files inside\n",
    "folder_name,type = 'A20-169','svs' # Specify the folder name (first param) and file type (second param)\n",
    "folder = glob.glob(f\"{folder_name}/*.{type}\")\n",
    "print(f\"{len(folder)} {type} files identified.\")\n",
    "# Create the 'failed' folder if it doesn't exist\n",
    "failed_folder = os.path.join(os.path.dirname(os.path.abspath(folder_name)), folder_name, 'failed')\n",
    "os.makedirs(failed_folder, exist_ok=True)\n",
    "\n",
    "def move_to_failed_folder(file, folder):\n",
    "    failed_file = os.path.join(failed_folder, os.path.basename(file))\n",
    "    os.rename(file, failed_file)\n",
    "\n",
    "columns = ['participant_id', 'stain_id', 'brain_region','label']\n",
    "csv_filename = f\"{folder_name}.csv\"  # Change this to your desired file name\n",
    "\n",
    "with open(csv_filename, 'w', newline='') as csvfile:\n",
    "    csv_writer = csv.writer(csvfile)\n",
    "    csv_writer.writerow(columns)\n",
    "\n",
    "label_count = 0\n",
    "failed_count = 0\n",
    "good = True"
   ]
  },
  {
   "cell_type": "code",
   "execution_count": 3,
   "id": "b7921eb9-a0ad-4e33-8361-bcf99da2f803",
   "metadata": {},
   "outputs": [
    {
     "name": "stderr",
     "output_type": "stream",
     "text": [
      "  1%|█▌                                                                                                                                   | 1/82 [00:00<01:11,  1.14it/s]"
     ]
    },
    {
     "name": "stdout",
     "output_type": "stream",
     "text": [
      "Participant ID: A20-169\n",
      "Stain ID: HE\n",
      "Brain region match: L24A\n"
     ]
    },
    {
     "name": "stderr",
     "output_type": "stream",
     "text": [
      "  2%|███▏                                                                                                                                 | 2/82 [00:02<01:22,  1.03s/it]"
     ]
    },
    {
     "name": "stdout",
     "output_type": "stream",
     "text": [
      "Participant ID: A20-169\n",
      "Stain ID: LB509\n",
      "Brain region match: L24A\n"
     ]
    },
    {
     "name": "stderr",
     "output_type": "stream",
     "text": [
      "  4%|████▊                                                                                                                                | 3/82 [00:02<01:14,  1.06it/s]"
     ]
    },
    {
     "name": "stdout",
     "output_type": "stream",
     "text": [
      "Participant ID: A20-169\n",
      "Stain ID: HE\n",
      "Brain region match: L1\n"
     ]
    },
    {
     "name": "stderr",
     "output_type": "stream",
     "text": [
      "  5%|██████▍                                                                                                                              | 4/82 [00:03<01:18,  1.00s/it]"
     ]
    },
    {
     "name": "stdout",
     "output_type": "stream",
     "text": [
      "Participant ID: A20-169\n",
      "Stain ID: 10D5\n",
      "Brain region match: L1\n"
     ]
    },
    {
     "name": "stderr",
     "output_type": "stream",
     "text": [
      "  6%|████████                                                                                                                             | 5/82 [00:05<01:21,  1.06s/it]"
     ]
    },
    {
     "name": "stdout",
     "output_type": "stream",
     "text": [
      "Participant ID: A20-169\n",
      "Stain ID: PHF-1\n",
      "Brain region match: L1\n"
     ]
    },
    {
     "name": "stderr",
     "output_type": "stream",
     "text": [
      "  7%|█████████▋                                                                                                                           | 6/82 [00:06<01:21,  1.08s/it]"
     ]
    },
    {
     "name": "stdout",
     "output_type": "stream",
     "text": [
      "Participant ID: A20-169\n",
      "Stain ID: LB509\n",
      "Brain region match: L1\n"
     ]
    },
    {
     "name": "stderr",
     "output_type": "stream",
     "text": [
      "  9%|███████████▎                                                                                                                         | 7/82 [00:07<01:23,  1.11s/it]"
     ]
    },
    {
     "name": "stdout",
     "output_type": "stream",
     "text": [
      "Participant ID: A20-169\n",
      "Stain ID: TDP-43\n",
      "Brain region match: L1\n"
     ]
    },
    {
     "name": "stderr",
     "output_type": "stream",
     "text": [
      " 10%|████████████▉                                                                                                                        | 8/82 [00:08<01:15,  1.02s/it]"
     ]
    },
    {
     "name": "stdout",
     "output_type": "stream",
     "text": [
      "Participant ID: A20-169\n",
      "Stain ID: HE\n",
      "Brain region match: L19\n"
     ]
    },
    {
     "name": "stderr",
     "output_type": "stream",
     "text": [
      " 11%|██████████████▌                                                                                                                      | 9/82 [00:09<01:16,  1.04s/it]"
     ]
    },
    {
     "name": "stdout",
     "output_type": "stream",
     "text": [
      "Participant ID: A20-169\n",
      "Stain ID: 10D5\n",
      "Brain region match: L19\n"
     ]
    },
    {
     "name": "stderr",
     "output_type": "stream",
     "text": [
      " 12%|████████████████                                                                                                                    | 10/82 [00:10<01:15,  1.05s/it]"
     ]
    },
    {
     "name": "stdout",
     "output_type": "stream",
     "text": [
      "Participant ID: A20-169\n",
      "Stain ID: PHF-1\n",
      "Brain region match: L19\n"
     ]
    },
    {
     "name": "stderr",
     "output_type": "stream",
     "text": [
      " 13%|█████████████████▋                                                                                                                  | 11/82 [00:11<01:15,  1.06s/it]"
     ]
    },
    {
     "name": "stdout",
     "output_type": "stream",
     "text": [
      "Participant ID: A20-169\n",
      "Stain ID: LB509\n",
      "Brain region match: L19\n"
     ]
    },
    {
     "name": "stderr",
     "output_type": "stream",
     "text": [
      " 15%|███████████████████▎                                                                                                                | 12/82 [00:12<01:14,  1.07s/it]"
     ]
    },
    {
     "name": "stdout",
     "output_type": "stream",
     "text": [
      "Participant ID: A20-169\n",
      "Stain ID: TDP-43\n",
      "Brain region match: L19\n"
     ]
    },
    {
     "name": "stderr",
     "output_type": "stream",
     "text": [
      " 16%|████████████████████▉                                                                                                               | 13/82 [00:13<01:09,  1.01s/it]"
     ]
    },
    {
     "name": "stdout",
     "output_type": "stream",
     "text": [
      "Participant ID: A20-169\n",
      "Stain ID: HE\n",
      "Brain region match: L21\n",
      "Participant ID: A20-169\n",
      "Stain ID: 10D5\n",
      "Brain region match: L21\n"
     ]
    },
    {
     "name": "stderr",
     "output_type": "stream",
     "text": [
      " 18%|████████████████████████▏                                                                                                           | 15/82 [00:15<01:11,  1.06s/it]"
     ]
    },
    {
     "name": "stdout",
     "output_type": "stream",
     "text": [
      "Participant ID: A20-169\n",
      "Stain ID: PHF-1\n",
      "Brain region match: L21\n"
     ]
    },
    {
     "name": "stderr",
     "output_type": "stream",
     "text": [
      " 20%|█████████████████████████▊                                                                                                          | 16/82 [00:16<01:10,  1.06s/it]"
     ]
    },
    {
     "name": "stdout",
     "output_type": "stream",
     "text": [
      "Participant ID: A20-169\n",
      "Stain ID: LB509\n",
      "Brain region match: L21\n"
     ]
    },
    {
     "name": "stderr",
     "output_type": "stream",
     "text": [
      " 21%|███████████████████████████▎                                                                                                        | 17/82 [00:17<01:10,  1.08s/it]"
     ]
    },
    {
     "name": "stdout",
     "output_type": "stream",
     "text": [
      "Participant ID: 420-169\n",
      "Stain ID: TDP-43\n",
      "Brain region match: L21\n"
     ]
    },
    {
     "name": "stderr",
     "output_type": "stream",
     "text": [
      " 22%|████████████████████████████▉                                                                                                       | 18/82 [00:18<01:04,  1.01s/it]"
     ]
    },
    {
     "name": "stdout",
     "output_type": "stream",
     "text": [
      "Participant ID: A20-169\n",
      "Stain ID: HE\n",
      "Brain region match: L2\n"
     ]
    },
    {
     "name": "stderr",
     "output_type": "stream",
     "text": [
      " 23%|██████████████████████████████▌                                                                                                     | 19/82 [00:19<01:06,  1.05s/it]"
     ]
    },
    {
     "name": "stdout",
     "output_type": "stream",
     "text": [
      "Participant ID: A20-169\n",
      "Stain ID: 10D5\n",
      "Brain region match: L2\n"
     ]
    },
    {
     "name": "stderr",
     "output_type": "stream",
     "text": [
      " 24%|████████████████████████████████▏                                                                                                   | 20/82 [00:20<01:06,  1.07s/it]"
     ]
    },
    {
     "name": "stdout",
     "output_type": "stream",
     "text": [
      "Participant ID: A20-169\n",
      "Stain ID: PHF-1\n",
      "Brain region match: L2\n"
     ]
    },
    {
     "name": "stderr",
     "output_type": "stream",
     "text": [
      " 26%|█████████████████████████████████▊                                                                                                  | 21/82 [00:22<01:06,  1.09s/it]"
     ]
    },
    {
     "name": "stdout",
     "output_type": "stream",
     "text": [
      "Participant ID: A20-169\n",
      "Stain ID: LB509\n",
      "Brain region match: L2\n"
     ]
    },
    {
     "name": "stderr",
     "output_type": "stream",
     "text": [
      " 27%|███████████████████████████████████▍                                                                                                | 22/82 [00:23<01:05,  1.09s/it]"
     ]
    },
    {
     "name": "stdout",
     "output_type": "stream",
     "text": [
      "Participant ID: A20-169\n",
      "Stain ID: TDP-43\n",
      "Brain region match: L2\n"
     ]
    },
    {
     "name": "stderr",
     "output_type": "stream",
     "text": [
      " 28%|█████████████████████████████████████                                                                                               | 23/82 [00:24<01:00,  1.02s/it]"
     ]
    },
    {
     "name": "stdout",
     "output_type": "stream",
     "text": [
      "Participant ID: A20-169\n",
      "Stain ID: HE\n",
      "Brain region match: L3\n"
     ]
    },
    {
     "name": "stderr",
     "output_type": "stream",
     "text": [
      " 29%|██████████████████████████████████████▋                                                                                             | 24/82 [00:25<01:00,  1.05s/it]"
     ]
    },
    {
     "name": "stdout",
     "output_type": "stream",
     "text": [
      "Participant ID: A20-169\n",
      "Stain ID: 10D5\n",
      "Brain region match: L3\n"
     ]
    },
    {
     "name": "stderr",
     "output_type": "stream",
     "text": [
      " 30%|████████████████████████████████████████▏                                                                                           | 25/82 [00:25<00:56,  1.01it/s]"
     ]
    },
    {
     "name": "stdout",
     "output_type": "stream",
     "text": [
      "Participant ID: A20-169\n",
      "Stain ID: HE\n",
      "Brain region match: L14\n"
     ]
    },
    {
     "name": "stderr",
     "output_type": "stream",
     "text": [
      " 32%|█████████████████████████████████████████▊                                                                                          | 26/82 [00:27<00:56,  1.02s/it]"
     ]
    },
    {
     "name": "stdout",
     "output_type": "stream",
     "text": [
      "Participant ID: A20-169\n",
      "Stain ID: 10D5\n",
      "Brain region match: L14\n"
     ]
    },
    {
     "name": "stderr",
     "output_type": "stream",
     "text": [
      " 33%|███████████████████████████████████████████▍                                                                                        | 27/82 [00:28<00:57,  1.05s/it]"
     ]
    },
    {
     "name": "stdout",
     "output_type": "stream",
     "text": [
      "Participant ID: A20-169\n",
      "Stain ID: PHF-1\n",
      "Brain region match: L14\n"
     ]
    },
    {
     "name": "stderr",
     "output_type": "stream",
     "text": [
      " 34%|█████████████████████████████████████████████                                                                                       | 28/82 [00:29<00:58,  1.08s/it]"
     ]
    },
    {
     "name": "stdout",
     "output_type": "stream",
     "text": [
      "Participant ID: A20-169\n",
      "Stain ID: LB509\n",
      "Brain region match: L14\n"
     ]
    },
    {
     "name": "stderr",
     "output_type": "stream",
     "text": [
      " 35%|██████████████████████████████████████████████▋                                                                                     | 29/82 [00:30<00:56,  1.06s/it]"
     ]
    },
    {
     "name": "stdout",
     "output_type": "stream",
     "text": [
      "Participant ID: A20-169\n",
      "Stain ID: TDP-43\n",
      "Brain region match: L14\n"
     ]
    },
    {
     "name": "stderr",
     "output_type": "stream",
     "text": [
      " 37%|████████████████████████████████████████████████▎                                                                                   | 30/82 [00:31<00:51,  1.00it/s]"
     ]
    },
    {
     "name": "stdout",
     "output_type": "stream",
     "text": [
      "Participant ID: A20-169\n",
      "Stain ID: HE\n",
      "Brain region match: L30\n"
     ]
    },
    {
     "name": "stderr",
     "output_type": "stream",
     "text": [
      " 38%|█████████████████████████████████████████████████▉                                                                                  | 31/82 [00:32<00:51,  1.00s/it]"
     ]
    },
    {
     "name": "stdout",
     "output_type": "stream",
     "text": [
      "Participant ID: A20-169\n",
      "Stain ID: 10D5\n",
      "Brain region match: L30\n"
     ]
    },
    {
     "name": "stderr",
     "output_type": "stream",
     "text": [
      " 39%|███████████████████████████████████████████████████▌                                                                                | 32/82 [00:33<00:51,  1.03s/it]"
     ]
    },
    {
     "name": "stdout",
     "output_type": "stream",
     "text": [
      "Participant ID: A20-169\n",
      "Stain ID: PHF-1\n",
      "Brain region match: L30\n"
     ]
    },
    {
     "name": "stderr",
     "output_type": "stream",
     "text": [
      " 40%|█████████████████████████████████████████████████████                                                                               | 33/82 [00:34<00:51,  1.05s/it]"
     ]
    },
    {
     "name": "stdout",
     "output_type": "stream",
     "text": [
      "Participant ID: A20-169\n",
      "Stain ID: LB509\n",
      "Brain region match: L30\n"
     ]
    },
    {
     "name": "stderr",
     "output_type": "stream",
     "text": [
      " 41%|██████████████████████████████████████████████████████▋                                                                             | 34/82 [00:35<00:49,  1.03s/it]"
     ]
    },
    {
     "name": "stdout",
     "output_type": "stream",
     "text": [
      "Participant ID: A20-169\n",
      "Stain ID: TDP-43\n",
      "Brain region match: L30\n"
     ]
    },
    {
     "name": "stderr",
     "output_type": "stream",
     "text": [
      " 43%|████████████████████████████████████████████████████████▎                                                                           | 35/82 [00:36<00:48,  1.02s/it]"
     ]
    },
    {
     "name": "stdout",
     "output_type": "stream",
     "text": [
      "Participant ID: A20-169\n",
      "Stain ID: 10D5\n",
      "Brain region match: L11\n"
     ]
    },
    {
     "name": "stderr",
     "output_type": "stream",
     "text": [
      " 44%|█████████████████████████████████████████████████████████▉                                                                          | 36/82 [00:37<00:44,  1.04it/s]"
     ]
    },
    {
     "name": "stdout",
     "output_type": "stream",
     "text": [
      "Participant ID: A20-169\n",
      "Stain ID: HE\n",
      "Brain region match: L11\n"
     ]
    },
    {
     "name": "stderr",
     "output_type": "stream",
     "text": [
      " 45%|███████████████████████████████████████████████████████████▌                                                                        | 37/82 [00:38<00:44,  1.01it/s]"
     ]
    },
    {
     "name": "stdout",
     "output_type": "stream",
     "text": [
      "Participant ID: A20-169\n",
      "Stain ID: LB509\n",
      "Brain region match: L11\n"
     ]
    },
    {
     "name": "stderr",
     "output_type": "stream",
     "text": [
      " 46%|█████████████████████████████████████████████████████████████▏                                                                      | 38/82 [00:39<00:44,  1.00s/it]"
     ]
    },
    {
     "name": "stdout",
     "output_type": "stream",
     "text": [
      "Participant ID: A20-169\n",
      "Stain ID: PHF-1\n",
      "Brain region match: L11\n"
     ]
    },
    {
     "name": "stderr",
     "output_type": "stream",
     "text": [
      " 48%|██████████████████████████████████████████████████████████████▊                                                                     | 39/82 [00:40<00:43,  1.00s/it]"
     ]
    },
    {
     "name": "stdout",
     "output_type": "stream",
     "text": [
      "Participant ID: A20-169\n",
      "Stain ID: TDP-43\n",
      "Brain region match: L11\n"
     ]
    },
    {
     "name": "stderr",
     "output_type": "stream",
     "text": [
      " 49%|████████████████████████████████████████████████████████████████▍                                                                   | 40/82 [00:41<00:43,  1.02s/it]"
     ]
    },
    {
     "name": "stdout",
     "output_type": "stream",
     "text": [
      "Participant ID: A20-169\n",
      "Stain ID: 10D5\n",
      "Brain region match: L12\n"
     ]
    },
    {
     "name": "stderr",
     "output_type": "stream",
     "text": [
      " 50%|██████████████████████████████████████████████████████████████████                                                                  | 41/82 [00:42<00:39,  1.04it/s]"
     ]
    },
    {
     "name": "stdout",
     "output_type": "stream",
     "text": [
      "Participant ID: A20-169\n",
      "Stain ID: HE\n",
      "Brain region match: L12\n"
     ]
    },
    {
     "name": "stderr",
     "output_type": "stream",
     "text": [
      " 51%|███████████████████████████████████████████████████████████████████▌                                                                | 42/82 [00:44<00:54,  1.35s/it]"
     ]
    },
    {
     "name": "stdout",
     "output_type": "stream",
     "text": [
      "Participant ID: A20-169\n",
      "Stain ID: LB509\n",
      "Brain region match: L12\n"
     ]
    },
    {
     "name": "stderr",
     "output_type": "stream",
     "text": [
      " 52%|█████████████████████████████████████████████████████████████████████▏                                                              | 43/82 [00:45<00:49,  1.27s/it]"
     ]
    },
    {
     "name": "stdout",
     "output_type": "stream",
     "text": [
      "Participant ID: A20-169\n",
      "Stain ID: PHF-1\n",
      "Brain region match: L12\n"
     ]
    },
    {
     "name": "stderr",
     "output_type": "stream",
     "text": [
      " 54%|██████████████████████████████████████████████████████████████████████▊                                                             | 44/82 [00:46<00:45,  1.20s/it]"
     ]
    },
    {
     "name": "stdout",
     "output_type": "stream",
     "text": [
      "Participant ID: A20-169\n",
      "Stain ID: TDP-43\n",
      "Brain region match: L12\n"
     ]
    },
    {
     "name": "stderr",
     "output_type": "stream",
     "text": [
      " 55%|████████████████████████████████████████████████████████████████████████▍                                                           | 45/82 [00:47<00:42,  1.15s/it]"
     ]
    },
    {
     "name": "stdout",
     "output_type": "stream",
     "text": [
      "Participant ID: A20-169\n",
      "Stain ID: 10D5\n",
      "Brain region match: L17\n"
     ]
    },
    {
     "name": "stderr",
     "output_type": "stream",
     "text": [
      " 56%|██████████████████████████████████████████████████████████████████████████                                                          | 46/82 [00:48<00:38,  1.08s/it]"
     ]
    },
    {
     "name": "stdout",
     "output_type": "stream",
     "text": [
      "Participant ID: A20-169\n",
      "Stain ID: HE\n",
      "Brain region match: L17\n"
     ]
    },
    {
     "name": "stderr",
     "output_type": "stream",
     "text": [
      " 57%|███████████████████████████████████████████████████████████████████████████▋                                                        | 47/82 [00:49<00:38,  1.09s/it]"
     ]
    },
    {
     "name": "stdout",
     "output_type": "stream",
     "text": [
      "Participant ID: A20-169\n",
      "Stain ID: LB509\n",
      "Brain region match: L17\n"
     ]
    },
    {
     "name": "stderr",
     "output_type": "stream",
     "text": [
      " 59%|█████████████████████████████████████████████████████████████████████████████▎                                                      | 48/82 [00:50<00:37,  1.09s/it]"
     ]
    },
    {
     "name": "stdout",
     "output_type": "stream",
     "text": [
      "Participant ID: A20-169\n",
      "Stain ID: PHF-1\n",
      "Brain region match: L17\n"
     ]
    },
    {
     "name": "stderr",
     "output_type": "stream",
     "text": [
      " 60%|██████████████████████████████████████████████████████████████████████████████▉                                                     | 49/82 [00:51<00:36,  1.10s/it]"
     ]
    },
    {
     "name": "stdout",
     "output_type": "stream",
     "text": [
      "Participant ID: A20-169\n",
      "Stain ID: TDP-43\n",
      "Brain region match: L17\n"
     ]
    },
    {
     "name": "stderr",
     "output_type": "stream",
     "text": [
      " 61%|████████████████████████████████████████████████████████████████████████████████▍                                                   | 50/82 [00:52<00:35,  1.10s/it]"
     ]
    },
    {
     "name": "stdout",
     "output_type": "stream",
     "text": [
      "Participant ID: A20-169\n",
      "Stain ID: 10D5\n",
      "Brain region match: L23\n"
     ]
    },
    {
     "name": "stderr",
     "output_type": "stream",
     "text": [
      " 62%|██████████████████████████████████████████████████████████████████████████████████                                                  | 51/82 [00:53<00:32,  1.04s/it]"
     ]
    },
    {
     "name": "stdout",
     "output_type": "stream",
     "text": [
      "Participant ID: A20-169\n",
      "Stain ID: HE\n",
      "Brain region match: L23\n"
     ]
    },
    {
     "name": "stderr",
     "output_type": "stream",
     "text": [
      " 63%|███████████████████████████████████████████████████████████████████████████████████▋                                                | 52/82 [00:54<00:31,  1.04s/it]"
     ]
    },
    {
     "name": "stdout",
     "output_type": "stream",
     "text": [
      "Participant ID: A20-169\n",
      "Stain ID: LB509\n",
      "Brain region match: L23\n"
     ]
    },
    {
     "name": "stderr",
     "output_type": "stream",
     "text": [
      " 65%|█████████████████████████████████████████████████████████████████████████████████████▎                                              | 53/82 [00:56<00:30,  1.05s/it]"
     ]
    },
    {
     "name": "stdout",
     "output_type": "stream",
     "text": [
      "Participant ID: A20-169\n",
      "Stain ID: PHF-1\n",
      "Brain region match: L23\n"
     ]
    },
    {
     "name": "stderr",
     "output_type": "stream",
     "text": [
      " 66%|██████████████████████████████████████████████████████████████████████████████████████▉                                             | 54/82 [00:57<00:29,  1.05s/it]"
     ]
    },
    {
     "name": "stdout",
     "output_type": "stream",
     "text": [
      "Participant ID: A20-169\n",
      "Stain ID: TDP-43\n",
      "Brain region match: L23\n"
     ]
    },
    {
     "name": "stderr",
     "output_type": "stream",
     "text": [
      " 67%|████████████████████████████████████████████████████████████████████████████████████████▌                                           | 55/82 [00:58<00:28,  1.04s/it]"
     ]
    },
    {
     "name": "stdout",
     "output_type": "stream",
     "text": [
      "Participant ID: A20-169\n",
      "Stain ID: LB509\n",
      "Brain region match: L3\n"
     ]
    },
    {
     "name": "stderr",
     "output_type": "stream",
     "text": [
      " 68%|██████████████████████████████████████████████████████████████████████████████████████████▏                                         | 56/82 [00:59<00:27,  1.06s/it]"
     ]
    },
    {
     "name": "stdout",
     "output_type": "stream",
     "text": [
      "Participant ID: A20-169\n",
      "Stain ID: PHF-1\n",
      "Brain region match: L3\n"
     ]
    },
    {
     "name": "stderr",
     "output_type": "stream",
     "text": [
      " 70%|███████████████████████████████████████████████████████████████████████████████████████████▊                                        | 57/82 [01:00<00:26,  1.06s/it]"
     ]
    },
    {
     "name": "stdout",
     "output_type": "stream",
     "text": [
      "Participant ID: A20-169\n",
      "Stain ID: TDP-43\n",
      "Brain region match: L3\n"
     ]
    },
    {
     "name": "stderr",
     "output_type": "stream",
     "text": [
      " 71%|█████████████████████████████████████████████████████████████████████████████████████████████▎                                      | 58/82 [01:01<00:26,  1.10s/it]"
     ]
    },
    {
     "name": "stdout",
     "output_type": "stream",
     "text": [
      "Participant ID: A20-169\n",
      "Stain ID: 10D5\n",
      "Brain region match: L4\n"
     ]
    },
    {
     "name": "stderr",
     "output_type": "stream",
     "text": [
      " 72%|██████████████████████████████████████████████████████████████████████████████████████████████▉                                     | 59/82 [01:02<00:23,  1.03s/it]"
     ]
    },
    {
     "name": "stdout",
     "output_type": "stream",
     "text": [
      "Participant ID: A20-169\n",
      "Stain ID: HE\n",
      "Brain region match: L4\n"
     ]
    },
    {
     "name": "stderr",
     "output_type": "stream",
     "text": [
      " 73%|████████████████████████████████████████████████████████████████████████████████████████████████▌                                   | 60/82 [01:03<00:22,  1.02s/it]"
     ]
    },
    {
     "name": "stdout",
     "output_type": "stream",
     "text": [
      "Participant ID: A20-169\n",
      "Stain ID: LB509\n",
      "Brain region match: L4\n"
     ]
    },
    {
     "name": "stderr",
     "output_type": "stream",
     "text": [
      " 74%|██████████████████████████████████████████████████████████████████████████████████████████████████▏                                 | 61/82 [01:04<00:22,  1.07s/it]"
     ]
    },
    {
     "name": "stdout",
     "output_type": "stream",
     "text": [
      "Participant ID: A20-169\n",
      "Stain ID: PHF-1\n",
      "Brain region match: L4\n"
     ]
    },
    {
     "name": "stderr",
     "output_type": "stream",
     "text": [
      " 76%|███████████████████████████████████████████████████████████████████████████████████████████████████▊                                | 62/82 [01:05<00:21,  1.09s/it]"
     ]
    },
    {
     "name": "stdout",
     "output_type": "stream",
     "text": [
      "Participant ID: A20-169\n",
      "Stain ID: TDP-43\n",
      "Brain region match: L4\n"
     ]
    },
    {
     "name": "stderr",
     "output_type": "stream",
     "text": [
      " 77%|█████████████████████████████████████████████████████████████████████████████████████████████████████▍                              | 63/82 [01:06<00:21,  1.11s/it]"
     ]
    },
    {
     "name": "stdout",
     "output_type": "stream",
     "text": [
      "Participant ID: A20-169\n",
      "Stain ID: 10D5\n",
      "Brain region match: L5\n"
     ]
    },
    {
     "name": "stderr",
     "output_type": "stream",
     "text": [
      " 78%|███████████████████████████████████████████████████████████████████████████████████████████████████████                             | 64/82 [01:07<00:18,  1.04s/it]"
     ]
    },
    {
     "name": "stdout",
     "output_type": "stream",
     "text": [
      "Participant ID: A20-169\n",
      "Stain ID: HE\n",
      "Brain region match: L5\n"
     ]
    },
    {
     "name": "stderr",
     "output_type": "stream",
     "text": [
      " 79%|████████████████████████████████████████████████████████████████████████████████████████████████████████▋                           | 65/82 [01:08<00:17,  1.06s/it]"
     ]
    },
    {
     "name": "stdout",
     "output_type": "stream",
     "text": [
      "Participant ID: A20-169\n",
      "Stain ID: LB509\n",
      "Brain region match: L5\n"
     ]
    },
    {
     "name": "stderr",
     "output_type": "stream",
     "text": [
      " 80%|██████████████████████████████████████████████████████████████████████████████████████████████████████████▏                         | 66/82 [01:09<00:17,  1.07s/it]"
     ]
    },
    {
     "name": "stdout",
     "output_type": "stream",
     "text": [
      "Participant ID: A20-169\n",
      "Stain ID: PHF-1\n",
      "Brain region match: L5\n"
     ]
    },
    {
     "name": "stderr",
     "output_type": "stream",
     "text": [
      " 82%|███████████████████████████████████████████████████████████████████████████████████████████████████████████▊                        | 67/82 [01:10<00:16,  1.08s/it]"
     ]
    },
    {
     "name": "stdout",
     "output_type": "stream",
     "text": [
      "Participant ID: A20-169\n",
      "Stain ID: TDP-43\n",
      "Brain region match: L5\n"
     ]
    },
    {
     "name": "stderr",
     "output_type": "stream",
     "text": [
      " 83%|█████████████████████████████████████████████████████████████████████████████████████████████████████████████▍                      | 68/82 [01:12<00:15,  1.08s/it]"
     ]
    },
    {
     "name": "stdout",
     "output_type": "stream",
     "text": [
      "Participant ID: A20-169\n",
      "Stain ID: 10D5\n",
      "Brain region match: L6\n"
     ]
    },
    {
     "name": "stderr",
     "output_type": "stream",
     "text": [
      " 84%|███████████████████████████████████████████████████████████████████████████████████████████████████████████████                     | 69/82 [01:12<00:13,  1.01s/it]"
     ]
    },
    {
     "name": "stdout",
     "output_type": "stream",
     "text": [
      "Participant ID: A20-169\n",
      "Stain ID: HE\n",
      "Brain region match: L6\n"
     ]
    },
    {
     "name": "stderr",
     "output_type": "stream",
     "text": [
      " 85%|████████████████████████████████████████████████████████████████████████████████████████████████████████████████▋                   | 70/82 [01:13<00:12,  1.04s/it]"
     ]
    },
    {
     "name": "stdout",
     "output_type": "stream",
     "text": [
      "Participant ID: A20-169\n",
      "Stain ID: LB509\n",
      "Brain region match: L6\n"
     ]
    },
    {
     "name": "stderr",
     "output_type": "stream",
     "text": [
      " 87%|██████████████████████████████████████████████████████████████████████████████████████████████████████████████████▎                 | 71/82 [01:15<00:11,  1.06s/it]"
     ]
    },
    {
     "name": "stdout",
     "output_type": "stream",
     "text": [
      "Participant ID: A20-169\n",
      "Stain ID: PHF-1\n",
      "Brain region match: L6\n"
     ]
    },
    {
     "name": "stderr",
     "output_type": "stream",
     "text": [
      " 88%|███████████████████████████████████████████████████████████████████████████████████████████████████████████████████▉                | 72/82 [01:16<00:10,  1.05s/it]"
     ]
    },
    {
     "name": "stdout",
     "output_type": "stream",
     "text": [
      "Participant ID: A20-169\n",
      "Stain ID: TDP-43\n",
      "Brain region match: L6\n"
     ]
    },
    {
     "name": "stderr",
     "output_type": "stream",
     "text": [
      " 89%|█████████████████████████████████████████████████████████████████████████████████████████████████████████████████████▌              | 73/82 [01:17<00:09,  1.06s/it]"
     ]
    },
    {
     "name": "stdout",
     "output_type": "stream",
     "text": [
      "Participant ID: A20-169\n",
      "Stain ID: 10D5\n",
      "Brain region match: L8\n"
     ]
    },
    {
     "name": "stderr",
     "output_type": "stream",
     "text": [
      " 90%|███████████████████████████████████████████████████████████████████████████████████████████████████████████████████████             | 74/82 [01:18<00:07,  1.01it/s]"
     ]
    },
    {
     "name": "stdout",
     "output_type": "stream",
     "text": [
      "Participant ID: A20-169\n",
      "Stain ID: HE\n",
      "Brain region match: L8\n"
     ]
    },
    {
     "name": "stderr",
     "output_type": "stream",
     "text": [
      " 91%|████████████████████████████████████████████████████████████████████████████████████████████████████████████████████████▋           | 75/82 [01:19<00:07,  1.02s/it]"
     ]
    },
    {
     "name": "stdout",
     "output_type": "stream",
     "text": [
      "Participant ID: A20-169\n",
      "Stain ID: LB509\n",
      "Brain region match: L8\n"
     ]
    },
    {
     "name": "stderr",
     "output_type": "stream",
     "text": [
      " 93%|██████████████████████████████████████████████████████████████████████████████████████████████████████████████████████████▎         | 76/82 [01:20<00:06,  1.04s/it]"
     ]
    },
    {
     "name": "stdout",
     "output_type": "stream",
     "text": [
      "Participant ID: A20-169\n",
      "Stain ID: PHF-1\n",
      "Brain region match: L8\n"
     ]
    },
    {
     "name": "stderr",
     "output_type": "stream",
     "text": [
      " 94%|███████████████████████████████████████████████████████████████████████████████████████████████████████████████████████████▉        | 77/82 [01:21<00:05,  1.06s/it]"
     ]
    },
    {
     "name": "stdout",
     "output_type": "stream",
     "text": [
      "Participant ID: A20-169\n",
      "Stain ID: TDP-43\n",
      "Brain region match: L8\n"
     ]
    },
    {
     "name": "stderr",
     "output_type": "stream",
     "text": [
      " 95%|█████████████████████████████████████████████████████████████████████████████████████████████████████████████████████████████▌      | 78/82 [01:22<00:04,  1.07s/it]"
     ]
    },
    {
     "name": "stdout",
     "output_type": "stream",
     "text": [
      "Participant ID: A20-169\n",
      "Stain ID: 10D5\n",
      "Brain region match: L9\n"
     ]
    },
    {
     "name": "stderr",
     "output_type": "stream",
     "text": [
      " 96%|███████████████████████████████████████████████████████████████████████████████████████████████████████████████████████████████▏    | 79/82 [01:23<00:02,  1.02it/s]"
     ]
    },
    {
     "name": "stdout",
     "output_type": "stream",
     "text": [
      "Participant ID: A20-169\n",
      "Stain ID: HE\n",
      "Brain region match: L9\n"
     ]
    },
    {
     "name": "stderr",
     "output_type": "stream",
     "text": [
      " 98%|████████████████████████████████████████████████████████████████████████████████████████████████████████████████████████████████▊   | 80/82 [01:24<00:02,  1.01s/it]"
     ]
    },
    {
     "name": "stdout",
     "output_type": "stream",
     "text": [
      "Participant ID: A20-169\n",
      "Stain ID: LB509\n",
      "Brain region match: L9\n"
     ]
    },
    {
     "name": "stderr",
     "output_type": "stream",
     "text": [
      " 99%|██████████████████████████████████████████████████████████████████████████████████████████████████████████████████████████████████▍ | 81/82 [01:25<00:01,  1.02s/it]"
     ]
    },
    {
     "name": "stdout",
     "output_type": "stream",
     "text": [
      "Participant ID: A20-169\n",
      "Stain ID: PHF-1\n",
      "Brain region match: L9\n"
     ]
    },
    {
     "name": "stderr",
     "output_type": "stream",
     "text": [
      "100%|████████████████████████████████████████████████████████████████████████████████████████████████████████████████████████████████████| 82/82 [01:26<00:00,  1.05s/it]\n"
     ]
    },
    {
     "name": "stdout",
     "output_type": "stream",
     "text": [
      "Participant ID: A20-169\n",
      "Stain ID: TDP-43\n",
      "Brain region match: L9\n"
     ]
    },
    {
     "name": "stderr",
     "output_type": "stream",
     "text": [
      "  0%|                                                                                                                                             | 0/82 [00:00<?, ?it/s]\n"
     ]
    },
    {
     "ename": "RuntimeError",
     "evalue": "/__w/slideio/slideio/src/slideio/imagetools/tifftools.cpp:297:File A20-169/1005886.svs does not exist",
     "output_type": "error",
     "traceback": [
      "\u001b[0;31m---------------------------------------------------------------------------\u001b[0m",
      "\u001b[0;31mRuntimeError\u001b[0m                              Traceback (most recent call last)",
      "\u001b[0;32m/tmp/ipykernel_4637/3564110432.py\u001b[0m in \u001b[0;36m<module>\u001b[0;34m\u001b[0m\n\u001b[1;32m      1\u001b[0m \u001b[0;32mwhile\u001b[0m \u001b[0mgood\u001b[0m \u001b[0;34m==\u001b[0m \u001b[0;32mTrue\u001b[0m\u001b[0;34m:\u001b[0m\u001b[0;34m\u001b[0m\u001b[0;34m\u001b[0m\u001b[0m\n\u001b[1;32m      2\u001b[0m     \u001b[0;32mfor\u001b[0m \u001b[0mfile\u001b[0m \u001b[0;32min\u001b[0m \u001b[0mtqdm\u001b[0m\u001b[0;34m(\u001b[0m\u001b[0mfolder\u001b[0m\u001b[0;34m)\u001b[0m\u001b[0;34m:\u001b[0m\u001b[0;34m\u001b[0m\u001b[0;34m\u001b[0m\u001b[0m\n\u001b[0;32m----> 3\u001b[0;31m         \u001b[0mslide\u001b[0m \u001b[0;34m=\u001b[0m \u001b[0mslideio\u001b[0m\u001b[0;34m.\u001b[0m\u001b[0mopen_slide\u001b[0m\u001b[0;34m(\u001b[0m\u001b[0mfile\u001b[0m\u001b[0;34m)\u001b[0m\u001b[0;34m\u001b[0m\u001b[0;34m\u001b[0m\u001b[0m\n\u001b[0m\u001b[1;32m      4\u001b[0m         \u001b[0mscene\u001b[0m \u001b[0;34m=\u001b[0m \u001b[0mslide\u001b[0m\u001b[0;34m.\u001b[0m\u001b[0mget_scene\u001b[0m\u001b[0;34m(\u001b[0m\u001b[0;36m0\u001b[0m\u001b[0;34m)\u001b[0m\u001b[0;34m\u001b[0m\u001b[0;34m\u001b[0m\u001b[0m\n\u001b[1;32m      5\u001b[0m         \u001b[0;31m# print(scene)\u001b[0m\u001b[0;34m\u001b[0m\u001b[0;34m\u001b[0m\u001b[0;34m\u001b[0m\u001b[0m\n",
      "\u001b[0;32m~/miniconda3/envs/pad_env/lib/python3.7/site-packages/slideio/py_slideio.py\u001b[0m in \u001b[0;36mopen_slide\u001b[0;34m(path, driver)\u001b[0m\n\u001b[1;32m    270\u001b[0m         \u001b[0mdriver\u001b[0m\u001b[0;34m:\u001b[0m \u001b[0mname\u001b[0m \u001b[0mof\u001b[0m \u001b[0mthe\u001b[0m \u001b[0mdriver\u001b[0m \u001b[0;32mor\u001b[0m \u001b[0;34m\"AUTO\"\u001b[0m \u001b[0;32mfor\u001b[0m \u001b[0mautomatic\u001b[0m \u001b[0mdriver\u001b[0m \u001b[0mselection\u001b[0m\u001b[0;34m\u001b[0m\u001b[0;34m\u001b[0m\u001b[0m\n\u001b[1;32m    271\u001b[0m     '''\n\u001b[0;32m--> 272\u001b[0;31m     \u001b[0mslide\u001b[0m \u001b[0;34m=\u001b[0m \u001b[0mSlide\u001b[0m\u001b[0;34m(\u001b[0m\u001b[0mpath\u001b[0m\u001b[0;34m,\u001b[0m \u001b[0mdriver\u001b[0m\u001b[0;34m)\u001b[0m\u001b[0;34m\u001b[0m\u001b[0;34m\u001b[0m\u001b[0m\n\u001b[0m\u001b[1;32m    273\u001b[0m     \u001b[0;32mreturn\u001b[0m \u001b[0mslide\u001b[0m\u001b[0;34m\u001b[0m\u001b[0;34m\u001b[0m\u001b[0m\n\u001b[1;32m    274\u001b[0m \u001b[0;34m\u001b[0m\u001b[0m\n",
      "\u001b[0;32m~/miniconda3/envs/pad_env/lib/python3.7/site-packages/slideio/py_slideio.py\u001b[0m in \u001b[0;36m__init__\u001b[0;34m(self, path, driver)\u001b[0m\n\u001b[1;32m    186\u001b[0m     '''\n\u001b[1;32m    187\u001b[0m     \u001b[0;32mdef\u001b[0m \u001b[0m__init__\u001b[0m\u001b[0;34m(\u001b[0m\u001b[0mself\u001b[0m\u001b[0;34m,\u001b[0m \u001b[0mpath\u001b[0m\u001b[0;34m:\u001b[0m\u001b[0mstr\u001b[0m\u001b[0;34m,\u001b[0m \u001b[0mdriver\u001b[0m\u001b[0;34m:\u001b[0m\u001b[0mstr\u001b[0m\u001b[0;34m)\u001b[0m\u001b[0;34m:\u001b[0m\u001b[0;34m\u001b[0m\u001b[0;34m\u001b[0m\u001b[0m\n\u001b[0;32m--> 188\u001b[0;31m         \u001b[0mself\u001b[0m\u001b[0;34m.\u001b[0m\u001b[0mslide\u001b[0m \u001b[0;34m=\u001b[0m \u001b[0msld\u001b[0m\u001b[0;34m.\u001b[0m\u001b[0mopen_slide\u001b[0m\u001b[0;34m(\u001b[0m\u001b[0mpath\u001b[0m\u001b[0;34m,\u001b[0m \u001b[0mdriver\u001b[0m\u001b[0;34m)\u001b[0m\u001b[0;34m\u001b[0m\u001b[0;34m\u001b[0m\u001b[0m\n\u001b[0m\u001b[1;32m    189\u001b[0m \u001b[0;34m\u001b[0m\u001b[0m\n\u001b[1;32m    190\u001b[0m     \u001b[0;32mdef\u001b[0m \u001b[0m__del__\u001b[0m\u001b[0;34m(\u001b[0m\u001b[0mself\u001b[0m\u001b[0;34m)\u001b[0m\u001b[0;34m:\u001b[0m\u001b[0;34m\u001b[0m\u001b[0;34m\u001b[0m\u001b[0m\n",
      "\u001b[0;31mRuntimeError\u001b[0m: /__w/slideio/slideio/src/slideio/imagetools/tifftools.cpp:297:File A20-169/1005886.svs does not exist"
     ]
    }
   ],
   "source": [
    "while good == True:\n",
    "    for file in tqdm(folder):\n",
    "        slide = slideio.open_slide(file)\n",
    "        scene = slide.get_scene(0)\n",
    "        # print(scene)\n",
    "        # This part gets the image per slide\n",
    "        image_names = slide.get_aux_image_names()\n",
    "        images = []\n",
    "        for name in image_names:\n",
    "            if name == 'Label':\n",
    "                image = slide.get_aux_image_raster(name)\n",
    "                images.append(image)\n",
    "                rotated_image = np.rot90(image, k=-1) # Capture a rotated image of the label\n",
    "                result = ocr_model.ocr(rotated_image) # Process rotated image with Paddle\n",
    "                # Build a list containing all chunks identified by Paddle\n",
    "                text_list = []\n",
    "                for result_group in result:\n",
    "                    for text_region in result_group:\n",
    "                        text, confidence = text_region[1]  # Extract text and confidence\n",
    "                        # print(\"Text:\", text); print(\"Confidence:\", confidence)\n",
    "                        text_list.append(text)\n",
    "                        # Coordinates are stored in text_region[0] if needed\n",
    "                garbage = ['starfrost', 'adrc']  # Clean the result a little\n",
    "                text_list = [thing for thing in text_list if thing.lower() not in garbage]\n",
    "\n",
    "                try:\n",
    "                    # Phase 1: Gather the Participant ID:\n",
    "                    participant_pattern = r'([A-Z0-9]{3})-([A-Z0-9]{3})'\n",
    "                    participant_matches = [re.search(participant_pattern, i) for i in text_list if re.search(participant_pattern, i)]\n",
    "                    participant_id = [match[0] for match in participant_matches]\n",
    "                    participant_id = participant_id[0]; print(f\"Participant ID: {participant_id}\")\n",
    "                    pass\n",
    "                except Exception as e:\n",
    "                    logging.error(f\"An exception occurred while processing file: {file}\")\n",
    "                    logging.error(f\"Exception details: {e} Participant ID\")\n",
    "                    good = False\n",
    "                    move_to_failed_folder(file, failed_folder); failed_count += 1\n",
    "                    continue\n",
    "\n",
    "                try:\n",
    "                    # Phase 2: Gather the Stain ID:\n",
    "                    predefined_choices = ['LB509', 'HE', 'PHF-1', 'TDP-43', '10D5'] # Stain Choices\n",
    "                    stain_id = None\n",
    "                    best_similarity = 0\n",
    "                    for i in text_list:\n",
    "                        for choice in predefined_choices:\n",
    "                            similarity = fuzz.ratio(i, choice)  # Calculate Lebenshtein distance\n",
    "                            if similarity > best_similarity:\n",
    "                                best_similarity = similarity\n",
    "                                stain_id = choice\n",
    "                    print(f\"Stain ID: {stain_id}\")\n",
    "                    pass\n",
    "                except Exception as e:\n",
    "                    logging.error(f\"An exception occurred while processing file: {file}\")\n",
    "                    logging.error(f\"Exception details: {e} (Stain ID)\")\n",
    "                    good = False\n",
    "                    move_to_failed_folder(file, failed_folder); failed_count += 1\n",
    "                    continue\n",
    "\n",
    "                try:\n",
    "                    # Phase 3: Gather the Brain Region ID:\n",
    "                    brain_region_pattern = r'\\bL\\d+[A-Z]?\\b'\n",
    "                    brain_region_matchs = [re.search(brain_region_pattern, i) for i in text_list if re.search(brain_region_pattern, i)]\n",
    "                    brain_region = [match[0] for match in brain_region_matchs]\n",
    "                    brain_region = brain_region[0]; print(f\"Brain region match: {brain_region}\")\n",
    "                    pass\n",
    "                except Exception as e:\n",
    "                    logging.error(f\"An exception occurred while processing file: {file}\")\n",
    "                    logging.error(f\"Exception details: {e} (Brain Region)\")\n",
    "                    good = False\n",
    "                    move_to_failed_folder(file, failed_folder); failed_count += 1\n",
    "                    continue\n",
    "\n",
    "                # Phase 4 Print Results:\n",
    "                if good == True:\n",
    "                    label_count += 1\n",
    "                    # Write the rows to the CSV file\n",
    "                    with open(f'{folder_name}.csv', mode='a', newline='') as csv_file:\n",
    "                        csv_writer = csv.writer(csv_file)\n",
    "                        label = f\"{participant_id}_{brain_region}_{stain_id}\"\n",
    "                        csv_writer.writerow([participant_id, stain_id, brain_region, label])\n",
    "                    # Phase 5 Rename Each File:\n",
    "                    new_name = os.path.join(os.path.dirname(file), label + \".svs\")\n",
    "                    os.rename(file, new_name)\n",
    "\n",
    "# Log the summary\n",
    "logging.info(f\"Processed {label_count} files. Moved {failed_count} files to the 'failed' folder.\")\n"
   ]
  },
  {
   "cell_type": "code",
   "execution_count": null,
   "id": "526b78e6-3ae8-4583-93c1-82bc1e718c64",
   "metadata": {},
   "outputs": [],
   "source": []
  },
  {
   "cell_type": "code",
   "execution_count": null,
   "id": "a04bb678-448a-4c59-9400-bf3fb776d29a",
   "metadata": {},
   "outputs": [],
   "source": []
  },
  {
   "cell_type": "code",
   "execution_count": null,
   "id": "2aeb33c9-8d18-4802-9eb1-d5bf685bcc28",
   "metadata": {},
   "outputs": [],
   "source": []
  }
 ],
 "metadata": {
  "kernelspec": {
   "display_name": "Python 3 (ipykernel)",
   "language": "python",
   "name": "python3"
  },
  "language_info": {
   "codemirror_mode": {
    "name": "ipython",
    "version": 3
   },
   "file_extension": ".py",
   "mimetype": "text/x-python",
   "name": "python",
   "nbconvert_exporter": "python",
   "pygments_lexer": "ipython3",
   "version": "3.7.16"
  }
 },
 "nbformat": 4,
 "nbformat_minor": 5
}
